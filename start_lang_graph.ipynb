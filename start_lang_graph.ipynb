{
 "cells": [
  {
   "cell_type": "code",
   "execution_count": 9,
   "metadata": {},
   "outputs": [],
   "source": [
    "import getpass\n",
    "import os\n",
    "\n",
    "try:\n",
    "    # load environment variables from .env file (requires `python-dotenv`)\n",
    "    from dotenv import load_dotenv\n",
    "    load_dotenv()\n",
    "except ImportError:\n",
    "    pass\n",
    "\n",
    "os.environ[\"LANGSMITH_TRACING\"] = \"true\"\n",
    "if \"LANGSMITH_API_KEY\" not in os.environ:\n",
    "    os.environ[\"LANGSMITH_API_KEY\"] = getpass.getpass(\n",
    "        prompt=\"Enter your LangSmith API key (optional): \"\n",
    "    )\n",
    "if \"LANGSMITH_PROJECT\" not in os.environ:\n",
    "    os.environ[\"LANGSMITH_PROJECT\"] = getpass.getpass(\n",
    "        prompt='Enter your LangSmith Project Name (default = \"default\"): '\n",
    "    )\n",
    "    if not os.environ.get(\"LANGSMITH_PROJECT\"):\n",
    "        os.environ[\"LANGSMITH_PROJECT\"] = \"default\"\n",
    "if \"OPENAI_API_KEY\" not in os.environ:\n",
    "    os.environ[\"OPENAI_API_KEY\"] = getpass.getpass(\n",
    "        prompt=\"Enter your OpenAI API key (required if using OpenAI): \"\n",
    "    )\n",
    "if \"TAVILY_API_KEY\" not in os.environ:\n",
    "    os.environ[\"TAVILY_API_KEY\"] = getpass.getpass(\n",
    "        prompt=\"Enter your TAVILY_API_KEY API key\"\n",
    "    )"
   ]
  },
  {
   "cell_type": "code",
   "execution_count": 2,
   "metadata": {},
   "outputs": [],
   "source": [
    "from typing import Annotated\n",
    "\n",
    "from typing_extensions import TypedDict\n",
    "\n",
    "from langgraph.graph import StateGraph, START, END\n",
    "from langgraph.graph.message import add_messages\n",
    "\n",
    "\n",
    "class State(TypedDict):\n",
    "    # Messages have the type \"list\". The `add_messages` function\n",
    "    # in the annotation defines how this state key should be updated\n",
    "    # (in this case, it appends messages to the list, rather than overwriting them)\n",
    "    messages: Annotated[list, add_messages]\n",
    "\n",
    "\n",
    "graph_builder = StateGraph(State)"
   ]
  },
  {
   "cell_type": "code",
   "execution_count": 3,
   "metadata": {},
   "outputs": [
    {
     "data": {
      "text/plain": [
       "<langgraph.graph.state.StateGraph at 0x122a4bdd0>"
      ]
     },
     "execution_count": 3,
     "metadata": {},
     "output_type": "execute_result"
    }
   ],
   "source": [
    "from langchain.chat_models import init_chat_model\n",
    "llm = init_chat_model(\"gpt-4o-mini\", model_provider=\"openai\")\n",
    "\n",
    "\n",
    "def chatbot(state: State):\n",
    "    return {\"messages\": [llm.invoke(state[\"messages\"])]}\n",
    "\n",
    "\n",
    "# The first argument is the unique node name\n",
    "# The second argument is the function or object that will be called whenever\n",
    "# the node is used.\n",
    "graph_builder.add_node(\"chatbot\", chatbot)"
   ]
  },
  {
   "cell_type": "code",
   "execution_count": 4,
   "metadata": {},
   "outputs": [
    {
     "data": {
      "text/plain": [
       "<langgraph.graph.state.StateGraph at 0x122a4bdd0>"
      ]
     },
     "execution_count": 4,
     "metadata": {},
     "output_type": "execute_result"
    }
   ],
   "source": [
    "graph_builder.add_edge(START, \"chatbot\")"
   ]
  },
  {
   "cell_type": "code",
   "execution_count": 5,
   "metadata": {},
   "outputs": [
    {
     "data": {
      "text/plain": [
       "<langgraph.graph.state.StateGraph at 0x122a4bdd0>"
      ]
     },
     "execution_count": 5,
     "metadata": {},
     "output_type": "execute_result"
    }
   ],
   "source": [
    "graph_builder.add_edge(\"chatbot\", END)\n"
   ]
  },
  {
   "cell_type": "code",
   "execution_count": 6,
   "metadata": {},
   "outputs": [],
   "source": [
    "graph = graph_builder.compile()\n"
   ]
  },
  {
   "cell_type": "code",
   "execution_count": 7,
   "metadata": {},
   "outputs": [
    {
     "data": {
      "image/png": "[encoded data removed]",
      "text/plain": [
       "<IPython.core.display.Image object>"
      ]
     },
     "metadata": {},
     "output_type": "display_data"
    }
   ],
   "source": [
    "from IPython.display import Image, display\n",
    "\n",
    "try:\n",
    "    display(Image(graph.get_graph().draw_mermaid_png()))\n",
    "except Exception:\n",
    "    # This requires some extra dependencies and is optional\n",
    "    pass"
   ]
  },
  {
   "cell_type": "code",
   "execution_count": 8,
   "metadata": {},
   "outputs": [
    {
     "name": "stdout",
     "output_type": "stream",
     "text": [
      "User: What do you know about LangGraph?\n",
      "Assistant: As of my last update in October 2023, LangGraph is a framework or tool designed to facilitate the development of applications that utilize language models and other natural language processing capabilities. One of its key features is the ability to easily integrate and configure various language-oriented tasks and data flows, often by leveraging graph-based representations.\n",
      "\n",
      "LangGraph typically allows developers to define workflows that involve language processing tasks such as text generation, summarization, translation, and more. The framework can enable users to visualize the relationships and dependencies between different components of their application, making it easier to manage complex interactions among linguistic inputs and outputs.\n",
      "\n",
      "If you're looking for specific features, use cases, or technical details about LangGraph, I recommend checking the latest documentation or resources available from the creators or community surrounding the tool, as advancements and new features may have been introduced after my last knowledge update.\n"
     ]
    }
   ],
   "source": [
    "def stream_graph_updates(user_input: str):\n",
    "    for event in graph.stream({\"messages\": [{\"role\": \"user\", \"content\": user_input}]}):\n",
    "        for value in event.values():\n",
    "            print(\"Assistant:\", value[\"messages\"][-1].content)\n",
    "\n",
    "\n",
    "while True:\n",
    "     # fallback if input() is not available\n",
    "    user_input = \"What do you know about LangGraph?\"\n",
    "    print(\"User: \" + user_input)\n",
    "    stream_graph_updates(user_input)\n",
    "    break"
   ]
  },
  {
   "cell_type": "code",
   "execution_count": 10,
   "metadata": {},
   "outputs": [
    {
     "data": {
      "text/plain": [
       "{'query': \"What's a 'node' in LangGraph?\",\n",
       " 'follow_up_questions': None,\n",
       " 'answer': None,\n",
       " 'images': [],\n",
       " 'results': [{'title': 'LangGraph Tutorial: What Is LangGraph and How to Use It?',\n",
       "   'url': 'https://www.datacamp.com/tutorial/langgraph-tutorial',\n",
       "   'content': 'LangGraph is a library within the LangChain ecosystem that provides a framework for defining, coordinating, and executing multiple LLM agents (or chains) in a structured and efficient manner. By managing the flow of data and the sequence of operations, LangGraph allows developers to focus on the high-level logic of their applications rather than the intricacies of agent coordination. Whether you need a chatbot that can handle various types of user requests or a multi-agent system that performs complex tasks, LangGraph provides the tools to build exactly what you need. LangGraph significantly simplifies the development of complex LLM applications by providing a structured framework for managing state and coordinating agent interactions.',\n",
       "   'score': 0.5008063,\n",
       "   'raw_content': None},\n",
       "  {'title': 'LangGraph - LangChain',\n",
       "   'url': 'https://www.langchain.com/langgraph',\n",
       "   'content': \"Build and scale agentic applications with LangGraph Platform. Craft agent-appropriate UXs using LangGraph Platform's APIs. Quickly deploy and scale your agent with purpose-built infrastructure. Design agent-driven user experiences with LangGraph Platform's APIs. Quickly deploy and scale your application with infrastructure built for agents. LangGraph sets the foundation for how we can build and scale AI workloads — from conversational agents, complex task automation, to custom LLM-backed experiences that 'just work'. LangGraph sets the foundation for how we can build and scale AI workloads — from conversational agents, complex task automation, to custom LLM-backed experiences that 'just work'. LangGraph Platform is a service for deploying and scaling LangGraph applications, with an opinionated API for building agent UXs, plus an integrated developer studio.\",\n",
       "   'score': 0.22086334,\n",
       "   'raw_content': None}],\n",
       " 'response_time': 1.64}"
      ]
     },
     "execution_count": 10,
     "metadata": {},
     "output_type": "execute_result"
    }
   ],
   "source": [
    "from langchain_tavily import TavilySearch\n",
    "\n",
    "tool = TavilySearch(max_results=2)\n",
    "tools = [tool]\n",
    "tool.invoke(\"What's a 'node' in LangGraph?\")"
   ]
  },
  {
   "cell_type": "code",
   "execution_count": 11,
   "metadata": {},
   "outputs": [
    {
     "data": {
      "text/plain": [
       "<langgraph.graph.state.StateGraph at 0x126f3ed10>"
      ]
     },
     "execution_count": 11,
     "metadata": {},
     "output_type": "execute_result"
    }
   ],
   "source": [
    "from typing import Annotated\n",
    "\n",
    "from langchain.chat_models import init_chat_model\n",
    "from typing_extensions import TypedDict\n",
    "\n",
    "from langgraph.graph import StateGraph, START, END\n",
    "from langgraph.graph.message import add_messages\n",
    "\n",
    "\n",
    "class State(TypedDict):\n",
    "    messages: Annotated[list, add_messages]\n",
    "\n",
    "\n",
    "graph_builder = StateGraph(State)\n",
    "\n",
    "\n",
    "llm = init_chat_model(\"gpt-4o-mini\", model_provider=\"openai\")\n",
    "\n",
    "\n",
    "# Modification: tell the LLM which tools it can call\n",
    "llm_with_tools = llm.bind_tools(tools)\n",
    "\n",
    "\n",
    "def chatbot(state: State):\n",
    "    return {\"messages\": [llm_with_tools.invoke(state[\"messages\"])]}\n",
    "\n",
    "\n",
    "graph_builder.add_node(\"chatbot\", chatbot)"
   ]
  },
  {
   "cell_type": "code",
   "execution_count": 12,
   "metadata": {},
   "outputs": [
    {
     "data": {
      "text/plain": [
       "<langgraph.graph.state.StateGraph at 0x126f3ed10>"
      ]
     },
     "execution_count": 12,
     "metadata": {},
     "output_type": "execute_result"
    }
   ],
   "source": [
    "import json\n",
    "\n",
    "from langchain_core.messages import ToolMessage\n",
    "\n",
    "\n",
    "class BasicToolNode:\n",
    "    \"\"\"A node that runs the tools requested in the last AIMessage.\"\"\"\n",
    "\n",
    "    def __init__(self, tools: list) -> None:\n",
    "        self.tools_by_name = {tool.name: tool for tool in tools}\n",
    "\n",
    "    def __call__(self, inputs: dict):\n",
    "        if messages := inputs.get(\"messages\", []):\n",
    "            message = messages[-1]\n",
    "        else:\n",
    "            raise ValueError(\"No message found in input\")\n",
    "        outputs = []\n",
    "        for tool_call in message.tool_calls:\n",
    "            tool_result = self.tools_by_name[tool_call[\"name\"]].invoke(\n",
    "                tool_call[\"args\"]\n",
    "            )\n",
    "            outputs.append(\n",
    "                ToolMessage(\n",
    "                    content=json.dumps(tool_result),\n",
    "                    name=tool_call[\"name\"],\n",
    "                    tool_call_id=tool_call[\"id\"],\n",
    "                )\n",
    "            )\n",
    "        return {\"messages\": outputs}\n",
    "\n",
    "\n",
    "tool_node = BasicToolNode(tools=[tool])\n",
    "graph_builder.add_node(\"tools\", tool_node)"
   ]
  },
  {
   "cell_type": "code",
   "execution_count": 13,
   "metadata": {},
   "outputs": [],
   "source": [
    "def route_tools(\n",
    "    state: State,\n",
    "):\n",
    "    \"\"\"\n",
    "    Use in the conditional_edge to route to the ToolNode if the last message\n",
    "    has tool calls. Otherwise, route to the end.\n",
    "    \"\"\"\n",
    "    if isinstance(state, list):\n",
    "        ai_message = state[-1]\n",
    "    elif messages := state.get(\"messages\", []):\n",
    "        ai_message = messages[-1]\n",
    "    else:\n",
    "        raise ValueError(f\"No messages found in input state to tool_edge: {state}\")\n",
    "    if hasattr(ai_message, \"tool_calls\") and len(ai_message.tool_calls) > 0:\n",
    "        return \"tools\"\n",
    "    return END\n",
    "\n",
    "\n",
    "# The `tools_condition` function returns \"tools\" if the chatbot asks to use a tool, and \"END\" if\n",
    "# it is fine directly responding. This conditional routing defines the main agent loop.\n",
    "graph_builder.add_conditional_edges(\n",
    "    \"chatbot\",\n",
    "    route_tools,\n",
    "    # The following dictionary lets you tell the graph to interpret the condition's outputs as a specific node\n",
    "    # It defaults to the identity function, but if you\n",
    "    # want to use a node named something else apart from \"tools\",\n",
    "    # You can update the value of the dictionary to something else\n",
    "    # e.g., \"tools\": \"my_tools\"\n",
    "    {\"tools\": \"tools\", END: END},\n",
    ")\n",
    "# Any time a tool is called, we return to the chatbot to decide the next step\n",
    "graph_builder.add_edge(\"tools\", \"chatbot\")\n",
    "graph_builder.add_edge(START, \"chatbot\")\n",
    "graph = graph_builder.compile()"
   ]
  },
  {
   "cell_type": "code",
   "execution_count": 14,
   "metadata": {},
   "outputs": [
    {
     "data": {
      "image/png": "[encoded data removed]",
      "text/plain": [
       "<IPython.core.display.Image object>"
      ]
     },
     "metadata": {},
     "output_type": "display_data"
    }
   ],
   "source": [
    "from IPython.display import Image, display\n",
    "\n",
    "try:\n",
    "    display(Image(graph.get_graph().draw_mermaid_png()))\n",
    "except Exception:\n",
    "    # This requires some extra dependencies and is optional\n",
    "    pass"
   ]
  },
  {
   "cell_type": "code",
   "execution_count": 15,
   "metadata": {},
   "outputs": [
    {
     "name": "stdout",
     "output_type": "stream",
     "text": [
      "User: What do you know about LangGraph?\n",
      "Assistant: \n",
      "Assistant: {\"query\": \"LangGraph\", \"follow_up_questions\": null, \"answer\": null, \"images\": [], \"results\": [{\"title\": \"LangGraph - LangChain\", \"url\": \"https://www.langchain.com/langgraph\", \"content\": \"Build and scale agentic applications with LangGraph Platform. Craft agent-appropriate UXs using LangGraph Platform's APIs. Quickly deploy and scale your agent with purpose-built infrastructure. Design agent-driven user experiences with LangGraph Platform's APIs. Quickly deploy and scale your application with infrastructure built for agents. LangGraph sets the foundation for how we can build and scale AI workloads \\u2014 from conversational agents, complex task automation, to custom LLM-backed experiences that 'just work'. LangGraph sets the foundation for how we can build and scale AI workloads \\u2014 from conversational agents, complex task automation, to custom LLM-backed experiences that 'just work'. LangGraph Platform is a service for deploying and scaling LangGraph applications, with an opinionated API for building agent UXs, plus an integrated developer studio.\", \"score\": 0.79522943, \"raw_content\": null}, {\"title\": \"langchain-ai/langgraph: Build resilient language agents as graphs. - GitHub\", \"url\": \"https://github.com/langchain-ai/langgraph\", \"content\": \"| Latest commit [jacoblee93](/jacoblee93)[jacoblee93](/langchain-ai/langgraph/commits?author=jacoblee93)  [docs: Adds additional Google Analytics tag to docs (](/langchain-ai/langgraph/commit/c7fe85585b430f62fa7f0780fc74bd9de982b2ad)[#4402](https://github.com/langchain-ai/langgraph/pull/4402)[)](/langchain-ai/langgraph/commit/c7fe85585b430f62fa7f0780fc74bd9de982b2ad) Apr 24, 2025  [c7fe855](/langchain-ai/langgraph/commit/c7fe85585b430f62fa7f0780fc74bd9de982b2ad)\\u00a0\\u00b7\\u00a0Apr 24, 2025  History[5,095 Commits](/langchain-ai/langgraph/commits/main/) | | | | [.markdown-link-check.config.json](/langchain-ai/langgraph/blob/main/.markdown-link-check.config.json \\\".markdown-link-check.config.json\\\") | | [.markdown-link-check.config.json](/langchain-ai/langgraph/blob/main/.markdown-link-check.config.json \\\".markdown-link-check.config.json\\\") | [Use create\\\\_react\\\\_agent (](/langchain-ai/langgraph/commit/2c32a38c4206ae029df1ba308617846ad52ba0bb \\\"Use create_react_agent (#441)\\\")[#441](https://github.com/langchain-ai/langgraph/pull/441)[)](/langchain-ai/langgraph/commit/2c32a38c4206ae029df1ba308617846ad52ba0bb \\\"Use create_react_agent (#441)\\\") | May 13, 2024 | [![Open Issues](https://camo.githubusercontent.com/5c13e9a7e2e21ad5dcf19f3be58e4b34485296e00539a1a93aec1d0896b2bd0f/68747470733a2f2f696d672e736869656c64732e696f2f6769746875622f6973737565732d7261772f6c616e67636861696e2d61692f6c616e676772617068)](https://github.com/langchain-ai/langgraph/issues) [![Docs](https://camo.githubusercontent.com/1a5daa2002aae52e28b869f1907ff99534f4cd34dc7753ddebf2caa26ffb7820/68747470733a2f2f696d672e736869656c64732e696f2f62616467652f646f63732d6c61746573742d626c7565)](https://langchain-ai.github.io/langgraph/) To learn more about how to use LangGraph, check out [the docs](https://langchain-ai.github.io/langgraph/). Discover, reuse, configure, and share agents across teams \\u2014 and iterate quickly with visual prototyping in [LangGraph Studio](https://langchain-ai.github.io/langgraph/concepts/langgraph_studio/). While LangGraph is our open-source agent orchestration framework, enterprises that need scalable agent deployment can benefit from [LangGraph Platform](https://langchain-ai.github.io/langgraph/concepts/langgraph_platform/). - [Built with LangGraph](https://www.langchain.com/built-with-langgraph): Hear how industry leaders use LangGraph to ship powerful, production-ready AI applications.\", \"score\": 0.7373288, \"raw_content\": null}], \"response_time\": 1.36}\n",
      "Assistant: LangGraph is a platform and framework designed to facilitate the development and scaling of AI applications, particularly those involving conversational agents and complex task automation. Here are some key details:\n",
      "\n",
      "1. **LangGraph Platform**:\n",
      "   - It offers tools and APIs to craft user experiences specifically tailored for agents.\n",
      "   - The platform supports the deployment and scaling of applications with infrastructure that is optimized for handling AI workloads.\n",
      "   - It is aimed at building applications that \"just work,\" meaning they are user-friendly and efficient.\n",
      "\n",
      "   More information can be found on their [official website](https://www.langchain.com/langgraph).\n",
      "\n",
      "2. **Open Source Framework**:\n",
      "   - LangGraph is also available as an open-source agent orchestration framework on GitHub.\n",
      "   - It allows users to discover, reuse, configure, and share agents across teams, and offers a visual prototyping feature called LangGraph Studio.\n",
      "   - The GitHub repository, where you can find documentation and source code, is available [here](https://github.com/langchain-ai/langgraph).\n",
      "\n",
      "3. **Use Cases and Development**:\n",
      "   - LangGraph caters to enterprises that require a scalable solution for deploying AI agents, with features that allow rapid iteration and development of agent-driven applications.\n",
      "\n",
      "Overall, LangGraph serves as a comprehensive solution for developers looking to integrate advanced AI functionalities into their applications.\n"
     ]
    }
   ],
   "source": [
    "# fallback if input() is not available\n",
    "user_input = \"What do you know about LangGraph?\"\n",
    "print(\"User: \" + user_input)\n",
    "stream_graph_updates(user_input)"
   ]
  },
  {
   "cell_type": "code",
   "execution_count": null,
   "metadata": {},
   "outputs": [
    {
     "data": {
      "text/plain": [
       "<langgraph.graph.state.StateGraph at 0x127bfe8d0>"
      ]
     },
     "execution_count": 19,
     "metadata": {},
     "output_type": "execute_result"
    }
   ],
   "source": [
    "from langgraph.checkpoint.memory import MemorySaver\n",
    "\n",
    "memory = MemorySaver()\n",
    "\n",
    "from typing import Annotated\n",
    "\n",
    "from langchain.chat_models import init_chat_model\n",
    "from langchain_tavily import TavilySearch\n",
    "from langchain_core.messages import BaseMessage\n",
    "from typing_extensions import TypedDict\n",
    "\n",
    "from langgraph.graph import StateGraph, START, END\n",
    "from langgraph.graph.message import add_messages\n",
    "from langgraph.prebuilt import ToolNode, tools_condition\n",
    "\n",
    "\n",
    "class State(TypedDict):\n",
    "    messages: Annotated[list, add_messages]\n",
    "\n",
    "\n",
    "graph_builder = StateGraph(State)\n",
    "\n",
    "\n",
    "tool = TavilySearch(max_results=2)\n",
    "tools = [tool]\n",
    "llm = init_chat_model(\"gpt-4o-mini\", model_provider=\"openai\")\n",
    "llm_with_tools = llm.bind_tools(tools)\n",
    "\n",
    "\n",
    "def chatbot(state: State):\n",
    "    return {\"messages\": [llm_with_tools.invoke(state[\"messages\"])]}\n",
    "\n",
    "\n",
    "graph_builder.add_node(\"chatbot\", chatbot)\n",
    "\n",
    "tool_node = ToolNode(tools=[tool])\n",
    "graph_builder.add_node(\"tools\", tool_node)\n",
    "\n",
    "graph_builder.add_conditional_edges(\n",
    "    \"chatbot\",\n",
    "    tools_condition,\n",
    ")\n",
    "# Any time a tool is called, we return to the chatbot to decide the next step\n",
    "graph_builder.add_edge(\"tools\", \"chatbot\")\n",
    "graph_builder.add_edge(START, \"chatbot\")"
   ]
  },
  {
   "cell_type": "code",
   "execution_count": 20,
   "metadata": {},
   "outputs": [],
   "source": [
    "graph = graph_builder.compile(checkpointer=memory)\n"
   ]
  },
  {
   "cell_type": "code",
   "execution_count": 21,
   "metadata": {},
   "outputs": [
    {
     "data": {
      "image/png": "[encoded data removed]",
      "text/plain": [
       "<IPython.core.display.Image object>"
      ]
     },
     "metadata": {},
     "output_type": "display_data"
    }
   ],
   "source": [
    "from IPython.display import Image, display\n",
    "\n",
    "try:\n",
    "    display(Image(graph.get_graph().draw_mermaid_png()))\n",
    "except Exception:\n",
    "    # This requires some extra dependencies and is optional\n",
    "    pass"
   ]
  },
  {
   "cell_type": "code",
   "execution_count": 24,
   "metadata": {},
   "outputs": [
    {
     "name": "stdout",
     "output_type": "stream",
     "text": [
      "================================\u001b[1m Human Message \u001b[0m=================================\n",
      "\n",
      "I need some expert guidance for building an AI agent. Could you request assistance for me?\n",
      "==================================\u001b[1m Ai Message \u001b[0m==================================\n",
      "Tool Calls:\n",
      "  tavily_search (call_ED1RMlFOqF6XC7b4a22GRq80)\n",
      " Call ID: call_ED1RMlFOqF6XC7b4a22GRq80\n",
      "  Args:\n",
      "    query: expert guidance for building an AI agent\n",
      "=================================\u001b[1m Tool Message \u001b[0m=================================\n",
      "Name: tavily_search\n",
      "\n",
      "{\"query\": \"expert guidance for building an AI agent\", \"follow_up_questions\": null, \"answer\": null, \"images\": [], \"results\": [{\"title\": \"How to Build an AI Agent from Scratch (2025 Step-by-Step Guide) - addlly.ai\", \"url\": \"https://addlly.ai/blog/how-to-build-an-ai-agent/\", \"content\": \"With the right tools and clear instructions, you can create your first AI agent that handles user requests, performs tasks, and gives accurate responses using natural language. Whether you’re building for fun or to solve specific tasks in your business, this step-by-step guide will help you understand the process, choose the right agent builder, and connect the right ai models to power your agent. Tools like OpenAI’s GPT, Anthropic’s Claude, and Google’s Gemini give your AI agent the ability to understand natural language, generate responses, and adapt to user needs. Your AI agent can then complete tasks, find answers, or respond to user needs based on real-time data.\", \"score\": 0.80625874, \"raw_content\": null}, {\"title\": \"Comprehensive Guide to Building AI Agents for Beginners in 2025 - Geeky ...\", \"url\": \"https://www.geeky-gadgets.com/how-to-design-and-implement-ai-agents-a-complete-beginners-tutorial/\", \"content\": \"Comprehensive Guide to Building AI Agents for Beginners in 2025 - Geeky Gadgets Whether you are new to the field or an experienced developer, this resource will help you navigate the complexities of building AI agents while staying informed about emerging trends and best practices. What Are AI Agents? AI agents are autonomous systems designed to perceive, process, and act on information, making them valuable tools for automating tasks, analyzing data, and engaging with users through natural language interfaces. Key components of AI agents include large language models (LLMs), tool integration, knowledge bases, natural language processing (NLP), guardrails for safety, and orchestration systems for managing workflows. By using advanced technologies, AI agents can: Building AI Agents in 2025\", \"score\": 0.767638, \"raw_content\": null}], \"response_time\": 1.26}\n",
      "==================================\u001b[1m Ai Message \u001b[0m==================================\n",
      "\n",
      "Here are two valuable resources that provide expert guidance for building an AI agent:\n",
      "\n",
      "1. **How to Build an AI Agent from Scratch (2025 Step-by-Step Guide)** - This guide covers the essentials of creating your first AI agent, including choosing the right tools and connecting to appropriate AI models like OpenAI’s GPT or Google’s Gemini. It emphasizes understanding natural language processing and adapting to user needs. You can read it [here](https://addlly.ai/blog/how-to-build-an-ai-agent/).\n",
      "\n",
      "2. **Comprehensive Guide to Building AI Agents for Beginners in 2025** - This is a detailed resource aimed at both beginners and experienced developers. It explains key concepts such as large language models, natural language processing, and safety measures. It's a great way to stay informed about emerging trends and best practices in AI agent development. Check it out [here](https://www.geeky-gadgets.com/how-to-design-and-implement-ai-agents-a-complete-beginners-tutorial/).\n",
      "\n",
      "These guides will help you navigate the complexities of building your AI agent effectively.\n"
     ]
    }
   ],
   "source": [
    "user_input = \"I need some expert guidance for building an AI agent. Could you request assistance for me?\"\n",
    "config = {\"configurable\": {\"thread_id\": \"1\"}}\n",
    "\n",
    "events = graph.stream(\n",
    "    {\"messages\": [{\"role\": \"user\", \"content\": user_input}]},\n",
    "    config,\n",
    "    stream_mode=\"values\",\n",
    ")\n",
    "for event in events:\n",
    "    if \"messages\" in event:\n",
    "        event[\"messages\"][-1].pretty_print()"
   ]
  },
  {
   "cell_type": "code",
   "execution_count": 26,
   "metadata": {},
   "outputs": [
    {
     "data": {
      "text/plain": [
       "StateSnapshot(values={'messages': [HumanMessage(content='I need some expert guidance for building an AI agent. Could you request assistance for me?', additional_kwargs={}, response_metadata={}, id='cccf993b-824f-4846-8e4f-b2a26b04c707'), AIMessage(content='Could you please provide more details about the specific assistance you need for building your AI agent? For example, are you looking for guidance on design, modeling, technical frameworks, or anything else particular? This will help me tailor the request more effectively.', additional_kwargs={'refusal': None}, response_metadata={'token_usage': {'completion_tokens': 51, 'prompt_tokens': 785, 'total_tokens': 836, 'completion_tokens_details': {'accepted_prediction_tokens': 0, 'audio_tokens': 0, 'reasoning_tokens': 0, 'rejected_prediction_tokens': 0}, 'prompt_tokens_details': {'audio_tokens': 0, 'cached_tokens': 0}}, 'model_name': 'gpt-4o-mini-2024-07-18', 'system_fingerprint': 'fp_dbaca60df0', 'id': 'chatcmpl-BULS5Ne7m1MGiDy06LFkFWEZRNrfW', 'service_tier': 'default', 'finish_reason': 'stop', 'logprobs': None}, id='run--a082a56e-5bf0-4a06-b2a9-50c3ff896367-0', usage_metadata={'input_tokens': 785, 'output_tokens': 51, 'total_tokens': 836, 'input_token_details': {'audio': 0, 'cache_read': 0}, 'output_token_details': {'audio': 0, 'reasoning': 0}}), HumanMessage(content='I need some expert guidance for building an AI agent. Could you request assistance for me?', additional_kwargs={}, response_metadata={}, id='fc4fd651-f879-4893-9cff-ef796aff10b7'), AIMessage(content='', additional_kwargs={'tool_calls': [{'id': 'call_ED1RMlFOqF6XC7b4a22GRq80', 'function': {'arguments': '{\"query\":\"expert guidance for building an AI agent\"}', 'name': 'tavily_search'}, 'type': 'function'}], 'refusal': None}, response_metadata={'token_usage': {'completion_tokens': 23, 'prompt_tokens': 860, 'total_tokens': 883, 'completion_tokens_details': {'accepted_prediction_tokens': 0, 'audio_tokens': 0, 'reasoning_tokens': 0, 'rejected_prediction_tokens': 0}, 'prompt_tokens_details': {'audio_tokens': 0, 'cached_tokens': 0}}, 'model_name': 'gpt-4o-mini-2024-07-18', 'system_fingerprint': 'fp_dbaca60df0', 'id': 'chatcmpl-BULT2l0nwmD8drhUuGIEvSlUtaFFB', 'service_tier': 'default', 'finish_reason': 'tool_calls', 'logprobs': None}, id='run--aa6a5797-08b8-4754-a6c3-dda3a55f0c3e-0', tool_calls=[{'name': 'tavily_search', 'args': {'query': 'expert guidance for building an AI agent'}, 'id': 'call_ED1RMlFOqF6XC7b4a22GRq80', 'type': 'tool_call'}], usage_metadata={'input_tokens': 860, 'output_tokens': 23, 'total_tokens': 883, 'input_token_details': {'audio': 0, 'cache_read': 0}, 'output_token_details': {'audio': 0, 'reasoning': 0}}), ToolMessage(content='{\"query\": \"expert guidance for building an AI agent\", \"follow_up_questions\": null, \"answer\": null, \"images\": [], \"results\": [{\"title\": \"How to Build an AI Agent from Scratch (2025 Step-by-Step Guide) - addlly.ai\", \"url\": \"https://addlly.ai/blog/how-to-build-an-ai-agent/\", \"content\": \"With the right tools and clear instructions, you can create your first AI agent that handles user requests, performs tasks, and gives accurate responses using natural language. Whether you’re building for fun or to solve specific tasks in your business, this step-by-step guide will help you understand the process, choose the right agent builder, and connect the right ai models to power your agent. Tools like OpenAI’s GPT, Anthropic’s Claude, and Google’s Gemini give your AI agent the ability to understand natural language, generate responses, and adapt to user needs. Your AI agent can then complete tasks, find answers, or respond to user needs based on real-time data.\", \"score\": 0.80625874, \"raw_content\": null}, {\"title\": \"Comprehensive Guide to Building AI Agents for Beginners in 2025 - Geeky ...\", \"url\": \"https://www.geeky-gadgets.com/how-to-design-and-implement-ai-agents-a-complete-beginners-tutorial/\", \"content\": \"Comprehensive Guide to Building AI Agents for Beginners in 2025 - Geeky Gadgets Whether you are new to the field or an experienced developer, this resource will help you navigate the complexities of building AI agents while staying informed about emerging trends and best practices. What Are AI Agents? AI agents are autonomous systems designed to perceive, process, and act on information, making them valuable tools for automating tasks, analyzing data, and engaging with users through natural language interfaces. Key components of AI agents include large language models (LLMs), tool integration, knowledge bases, natural language processing (NLP), guardrails for safety, and orchestration systems for managing workflows. By using advanced technologies, AI agents can: Building AI Agents in 2025\", \"score\": 0.767638, \"raw_content\": null}], \"response_time\": 1.26}', name='tavily_search', id='dccc57ae-5192-4310-b293-c9b1af4e89e1', tool_call_id='call_ED1RMlFOqF6XC7b4a22GRq80'), AIMessage(content=\"Here are two valuable resources that provide expert guidance for building an AI agent:\\n\\n1. **How to Build an AI Agent from Scratch (2025 Step-by-Step Guide)** - This guide covers the essentials of creating your first AI agent, including choosing the right tools and connecting to appropriate AI models like OpenAI’s GPT or Google’s Gemini. It emphasizes understanding natural language processing and adapting to user needs. You can read it [here](https://addlly.ai/blog/how-to-build-an-ai-agent/).\\n\\n2. **Comprehensive Guide to Building AI Agents for Beginners in 2025** - This is a detailed resource aimed at both beginners and experienced developers. It explains key concepts such as large language models, natural language processing, and safety measures. It's a great way to stay informed about emerging trends and best practices in AI agent development. Check it out [here](https://www.geeky-gadgets.com/how-to-design-and-implement-ai-agents-a-complete-beginners-tutorial/).\\n\\nThese guides will help you navigate the complexities of building your AI agent effectively.\", additional_kwargs={'refusal': None}, response_metadata={'token_usage': {'completion_tokens': 221, 'prompt_tokens': 1352, 'total_tokens': 1573, 'completion_tokens_details': {'accepted_prediction_tokens': 0, 'audio_tokens': 0, 'reasoning_tokens': 0, 'rejected_prediction_tokens': 0}, 'prompt_tokens_details': {'audio_tokens': 0, 'cached_tokens': 0}}, 'model_name': 'gpt-4o-mini-2024-07-18', 'system_fingerprint': 'fp_dbaca60df0', 'id': 'chatcmpl-BULT4rsWxsT8Zrh8cFS92uByc2jHJ', 'service_tier': 'default', 'finish_reason': 'stop', 'logprobs': None}, id='run--b293d7a9-6289-4953-a843-a45d34d4f883-0', usage_metadata={'input_tokens': 1352, 'output_tokens': 221, 'total_tokens': 1573, 'input_token_details': {'audio': 0, 'cache_read': 0}, 'output_token_details': {'audio': 0, 'reasoning': 0}})]}, next=(), config={'configurable': {'thread_id': '1', 'checkpoint_ns': '', 'checkpoint_id': '1f02acd0-f6b6-60b8-8006-144f6bf7d68e'}}, metadata={'source': 'loop', 'writes': {'chatbot': {'messages': [AIMessage(content=\"Here are two valuable resources that provide expert guidance for building an AI agent:\\n\\n1. **How to Build an AI Agent from Scratch (2025 Step-by-Step Guide)** - This guide covers the essentials of creating your first AI agent, including choosing the right tools and connecting to appropriate AI models like OpenAI’s GPT or Google’s Gemini. It emphasizes understanding natural language processing and adapting to user needs. You can read it [here](https://addlly.ai/blog/how-to-build-an-ai-agent/).\\n\\n2. **Comprehensive Guide to Building AI Agents for Beginners in 2025** - This is a detailed resource aimed at both beginners and experienced developers. It explains key concepts such as large language models, natural language processing, and safety measures. It's a great way to stay informed about emerging trends and best practices in AI agent development. Check it out [here](https://www.geeky-gadgets.com/how-to-design-and-implement-ai-agents-a-complete-beginners-tutorial/).\\n\\nThese guides will help you navigate the complexities of building your AI agent effectively.\", additional_kwargs={'refusal': None}, response_metadata={'token_usage': {'completion_tokens': 221, 'prompt_tokens': 1352, 'total_tokens': 1573, 'completion_tokens_details': {'accepted_prediction_tokens': 0, 'audio_tokens': 0, 'reasoning_tokens': 0, 'rejected_prediction_tokens': 0}, 'prompt_tokens_details': {'audio_tokens': 0, 'cached_tokens': 0}}, 'model_name': 'gpt-4o-mini-2024-07-18', 'system_fingerprint': 'fp_dbaca60df0', 'id': 'chatcmpl-BULT4rsWxsT8Zrh8cFS92uByc2jHJ', 'service_tier': 'default', 'finish_reason': 'stop', 'logprobs': None}, id='run--b293d7a9-6289-4953-a843-a45d34d4f883-0', usage_metadata={'input_tokens': 1352, 'output_tokens': 221, 'total_tokens': 1573, 'input_token_details': {'audio': 0, 'cache_read': 0}, 'output_token_details': {'audio': 0, 'reasoning': 0}})]}}, 'step': 6, 'parents': {}, 'thread_id': '1'}, created_at='2025-05-06T22:54:26.384282+00:00', parent_config={'configurable': {'thread_id': '1', 'checkpoint_ns': '', 'checkpoint_id': '1f02acd0-d3dd-6852-8005-24f4ef6ff8cf'}}, tasks=(), interrupts=())"
      ]
     },
     "execution_count": 26,
     "metadata": {},
     "output_type": "execute_result"
    }
   ],
   "source": [
    "snapshot = graph.get_state(config)\n",
    "snapshot"
   ]
  },
  {
   "cell_type": "code",
   "execution_count": 27,
   "metadata": {},
   "outputs": [
    {
     "data": {
      "text/plain": [
       "[HumanMessage(content='I need some expert guidance for building an AI agent. Could you request assistance for me?', additional_kwargs={}, response_metadata={}, id='cccf993b-824f-4846-8e4f-b2a26b04c707'),\n",
       " AIMessage(content='Could you please provide more details about the specific assistance you need for building your AI agent? For example, are you looking for guidance on design, modeling, technical frameworks, or anything else particular? This will help me tailor the request more effectively.', additional_kwargs={'refusal': None}, response_metadata={'token_usage': {'completion_tokens': 51, 'prompt_tokens': 785, 'total_tokens': 836, 'completion_tokens_details': {'accepted_prediction_tokens': 0, 'audio_tokens': 0, 'reasoning_tokens': 0, 'rejected_prediction_tokens': 0}, 'prompt_tokens_details': {'audio_tokens': 0, 'cached_tokens': 0}}, 'model_name': 'gpt-4o-mini-2024-07-18', 'system_fingerprint': 'fp_dbaca60df0', 'id': 'chatcmpl-BULS5Ne7m1MGiDy06LFkFWEZRNrfW', 'service_tier': 'default', 'finish_reason': 'stop', 'logprobs': None}, id='run--a082a56e-5bf0-4a06-b2a9-50c3ff896367-0', usage_metadata={'input_tokens': 785, 'output_tokens': 51, 'total_tokens': 836, 'input_token_details': {'audio': 0, 'cache_read': 0}, 'output_token_details': {'audio': 0, 'reasoning': 0}}),\n",
       " HumanMessage(content='I need some expert guidance for building an AI agent. Could you request assistance for me?', additional_kwargs={}, response_metadata={}, id='fc4fd651-f879-4893-9cff-ef796aff10b7'),\n",
       " AIMessage(content='', additional_kwargs={'tool_calls': [{'id': 'call_ED1RMlFOqF6XC7b4a22GRq80', 'function': {'arguments': '{\"query\":\"expert guidance for building an AI agent\"}', 'name': 'tavily_search'}, 'type': 'function'}], 'refusal': None}, response_metadata={'token_usage': {'completion_tokens': 23, 'prompt_tokens': 860, 'total_tokens': 883, 'completion_tokens_details': {'accepted_prediction_tokens': 0, 'audio_tokens': 0, 'reasoning_tokens': 0, 'rejected_prediction_tokens': 0}, 'prompt_tokens_details': {'audio_tokens': 0, 'cached_tokens': 0}}, 'model_name': 'gpt-4o-mini-2024-07-18', 'system_fingerprint': 'fp_dbaca60df0', 'id': 'chatcmpl-BULT2l0nwmD8drhUuGIEvSlUtaFFB', 'service_tier': 'default', 'finish_reason': 'tool_calls', 'logprobs': None}, id='run--aa6a5797-08b8-4754-a6c3-dda3a55f0c3e-0', tool_calls=[{'name': 'tavily_search', 'args': {'query': 'expert guidance for building an AI agent'}, 'id': 'call_ED1RMlFOqF6XC7b4a22GRq80', 'type': 'tool_call'}], usage_metadata={'input_tokens': 860, 'output_tokens': 23, 'total_tokens': 883, 'input_token_details': {'audio': 0, 'cache_read': 0}, 'output_token_details': {'audio': 0, 'reasoning': 0}}),\n",
       " ToolMessage(content='{\"query\": \"expert guidance for building an AI agent\", \"follow_up_questions\": null, \"answer\": null, \"images\": [], \"results\": [{\"title\": \"How to Build an AI Agent from Scratch (2025 Step-by-Step Guide) - addlly.ai\", \"url\": \"https://addlly.ai/blog/how-to-build-an-ai-agent/\", \"content\": \"With the right tools and clear instructions, you can create your first AI agent that handles user requests, performs tasks, and gives accurate responses using natural language. Whether you’re building for fun or to solve specific tasks in your business, this step-by-step guide will help you understand the process, choose the right agent builder, and connect the right ai models to power your agent. Tools like OpenAI’s GPT, Anthropic’s Claude, and Google’s Gemini give your AI agent the ability to understand natural language, generate responses, and adapt to user needs. Your AI agent can then complete tasks, find answers, or respond to user needs based on real-time data.\", \"score\": 0.80625874, \"raw_content\": null}, {\"title\": \"Comprehensive Guide to Building AI Agents for Beginners in 2025 - Geeky ...\", \"url\": \"https://www.geeky-gadgets.com/how-to-design-and-implement-ai-agents-a-complete-beginners-tutorial/\", \"content\": \"Comprehensive Guide to Building AI Agents for Beginners in 2025 - Geeky Gadgets Whether you are new to the field or an experienced developer, this resource will help you navigate the complexities of building AI agents while staying informed about emerging trends and best practices. What Are AI Agents? AI agents are autonomous systems designed to perceive, process, and act on information, making them valuable tools for automating tasks, analyzing data, and engaging with users through natural language interfaces. Key components of AI agents include large language models (LLMs), tool integration, knowledge bases, natural language processing (NLP), guardrails for safety, and orchestration systems for managing workflows. By using advanced technologies, AI agents can: Building AI Agents in 2025\", \"score\": 0.767638, \"raw_content\": null}], \"response_time\": 1.26}', name='tavily_search', id='dccc57ae-5192-4310-b293-c9b1af4e89e1', tool_call_id='call_ED1RMlFOqF6XC7b4a22GRq80'),\n",
       " AIMessage(content=\"Here are two valuable resources that provide expert guidance for building an AI agent:\\n\\n1. **How to Build an AI Agent from Scratch (2025 Step-by-Step Guide)** - This guide covers the essentials of creating your first AI agent, including choosing the right tools and connecting to appropriate AI models like OpenAI’s GPT or Google’s Gemini. It emphasizes understanding natural language processing and adapting to user needs. You can read it [here](https://addlly.ai/blog/how-to-build-an-ai-agent/).\\n\\n2. **Comprehensive Guide to Building AI Agents for Beginners in 2025** - This is a detailed resource aimed at both beginners and experienced developers. It explains key concepts such as large language models, natural language processing, and safety measures. It's a great way to stay informed about emerging trends and best practices in AI agent development. Check it out [here](https://www.geeky-gadgets.com/how-to-design-and-implement-ai-agents-a-complete-beginners-tutorial/).\\n\\nThese guides will help you navigate the complexities of building your AI agent effectively.\", additional_kwargs={'refusal': None}, response_metadata={'token_usage': {'completion_tokens': 221, 'prompt_tokens': 1352, 'total_tokens': 1573, 'completion_tokens_details': {'accepted_prediction_tokens': 0, 'audio_tokens': 0, 'reasoning_tokens': 0, 'rejected_prediction_tokens': 0}, 'prompt_tokens_details': {'audio_tokens': 0, 'cached_tokens': 0}}, 'model_name': 'gpt-4o-mini-2024-07-18', 'system_fingerprint': 'fp_dbaca60df0', 'id': 'chatcmpl-BULT4rsWxsT8Zrh8cFS92uByc2jHJ', 'service_tier': 'default', 'finish_reason': 'stop', 'logprobs': None}, id='run--b293d7a9-6289-4953-a843-a45d34d4f883-0', usage_metadata={'input_tokens': 1352, 'output_tokens': 221, 'total_tokens': 1573, 'input_token_details': {'audio': 0, 'cache_read': 0}, 'output_token_details': {'audio': 0, 'reasoning': 0}})]"
      ]
     },
     "execution_count": 27,
     "metadata": {},
     "output_type": "execute_result"
    }
   ],
   "source": [
    "snapshot.values['messages']"
   ]
  },
  {
   "cell_type": "code",
   "execution_count": 28,
   "metadata": {},
   "outputs": [],
   "source": [
    "from typing import Annotated\n",
    "\n",
    "from typing_extensions import TypedDict\n",
    "\n",
    "from langgraph.graph.message import add_messages\n",
    "\n",
    "\n",
    "class State(TypedDict):\n",
    "    messages: Annotated[list, add_messages]\n",
    "    name: str\n",
    "    birthday: str"
   ]
  },
  {
   "cell_type": "code",
   "execution_count": 29,
   "metadata": {},
   "outputs": [],
   "source": [
    "from langchain_core.messages import ToolMessage\n",
    "from langchain_core.tools import InjectedToolCallId, tool\n",
    "\n",
    "from langgraph.types import Command, interrupt\n",
    "\n",
    "\n",
    "@tool\n",
    "# Note that because we are generating a ToolMessage for a state update, we\n",
    "# generally require the ID of the corresponding tool call. We can use\n",
    "# LangChain's InjectedToolCallId to signal that this argument should not\n",
    "# be revealed to the model in the tool's schema.\n",
    "def human_assistance(\n",
    "    name: str, birthday: str, tool_call_id: Annotated[str, InjectedToolCallId]\n",
    ") -> str:\n",
    "    \"\"\"Request assistance from a human.\"\"\"\n",
    "    human_response = interrupt(\n",
    "        {\n",
    "            \"question\": \"Is this correct?\",\n",
    "            \"name\": name,\n",
    "            \"birthday\": birthday,\n",
    "        },\n",
    "    )\n",
    "    # If the information is correct, update the state as-is.\n",
    "    if human_response.get(\"correct\", \"\").lower().startswith(\"y\"):\n",
    "        verified_name = name\n",
    "        verified_birthday = birthday\n",
    "        response = \"Correct\"\n",
    "    # Otherwise, receive information from the human reviewer.\n",
    "    else:\n",
    "        verified_name = human_response.get(\"name\", name)\n",
    "        verified_birthday = human_response.get(\"birthday\", birthday)\n",
    "        response = f\"Made a correction: {human_response}\"\n",
    "\n",
    "    # This time we explicitly update the state with a ToolMessage inside\n",
    "    # the tool.\n",
    "    state_update = {\n",
    "        \"name\": verified_name,\n",
    "        \"birthday\": verified_birthday,\n",
    "        \"messages\": [ToolMessage(response, tool_call_id=tool_call_id)],\n",
    "    }\n",
    "    # We return a Command object in the tool to update our state.\n",
    "    return Command(update=state_update)"
   ]
  },
  {
   "cell_type": "code",
   "execution_count": 51,
   "metadata": {},
   "outputs": [],
   "source": [
    "from langchain.chat_models import init_chat_model\n",
    "from langchain_tavily import TavilySearch\n",
    "\n",
    "from langgraph.checkpoint.memory import MemorySaver\n",
    "from langgraph.graph import StateGraph, START, END\n",
    "from langgraph.prebuilt import ToolNode, tools_condition\n",
    "\n",
    "\n",
    "tool = TavilySearch(max_results=2)\n",
    "tools = [tool, human_assistance]\n",
    "llm = init_chat_model(\"gpt-4o-mini\", model_provider=\"openai\")\n",
    "llm_with_tools = llm.bind_tools(tools)\n",
    "\n",
    "\n",
    "def chatbot(state: State):\n",
    "    message = llm_with_tools.invoke(state[\"messages\"])\n",
    "    assert len(message.tool_calls) <= 1\n",
    "    return {\"messages\": [message]}\n",
    "\n",
    "\n",
    "graph_builder = StateGraph(State)\n",
    "graph_builder.add_node(\"chatbot\", chatbot)\n",
    "\n",
    "tool_node = ToolNode(tools=tools)\n",
    "graph_builder.add_node(\"tools\", tool_node)\n",
    "\n",
    "graph_builder.add_conditional_edges(\n",
    "    \"chatbot\",\n",
    "    tools_condition,\n",
    ")\n",
    "graph_builder.add_edge(\"tools\", \"chatbot\")\n",
    "graph_builder.add_edge(START, \"chatbot\")\n",
    "\n",
    "memory = MemorySaver()\n",
    "graph = graph_builder.compile(checkpointer=memory)"
   ]
  },
  {
   "cell_type": "code",
   "execution_count": 52,
   "metadata": {},
   "outputs": [
    {
     "name": "stdout",
     "output_type": "stream",
     "text": [
      "================================\u001b[1m Human Message \u001b[0m=================================\n",
      "\n",
      "Can you look up when LangGraph was released? When you have the answer, use the human_assistance tool for review.\n",
      "==================================\u001b[1m Ai Message \u001b[0m==================================\n",
      "Tool Calls:\n",
      "  tavily_search (call_zdaDa2FDt9xVPzMWEaV0IvET)\n",
      " Call ID: call_zdaDa2FDt9xVPzMWEaV0IvET\n",
      "  Args:\n",
      "    query: LangGraph release date\n",
      "=================================\u001b[1m Tool Message \u001b[0m=================================\n",
      "Name: tavily_search\n",
      "\n",
      "{\"query\": \"LangGraph release date\", \"follow_up_questions\": null, \"answer\": null, \"images\": [], \"results\": [{\"title\": \"Releases · langchain-ai/langgraph - GitHub\", \"url\": \"https://github.com/langchain-ai/langgraph/releases\", \"content\": \"Releases · langchain-ai/langgraph GitHub Copilot Write better code with AI GitHub Advanced Security Find and fix vulnerabilities Code Search Find more, search less Why GitHub GitHub Advanced Security Enterprise-grade security features Search code, repositories, users, issues, pull requests... Search Releases: langchain-ai/langgraph Releases · langchain-ai/langgraph github-actions View all tags github-actions View all tags langgraph: fix messages streaming for list of Commands (#4379) github-actions View all tags Changes since cli==0.2.6 github-actions View all tags Changes since sdk==0.1.62 fix: threads search sorting defaults (#4365) github-actions View all tags Changes since cli==0.2.5 github-actions View all tags Changes since sdk==0.1.61 github-actions View all tags github-actions View all tags github-actions View all tags Changes since cli==0.2.4 github-actions View all tags © 2025 GitHub, Inc. Footer navigation\", \"score\": 0.58862966, \"raw_content\": null}, {\"title\": \"LangGraph 0.3 Release: Prebuilt Agents - blog.langchain.dev\", \"url\": \"https://blog.langchain.dev/langgraph-0-3-release-prebuilt-agents/\", \"content\": \"LangGraph 0.3 Release: Prebuilt Agents Sign in Subscribe LangGraph 0.3 Release: Prebuilt Agents Over the past year, we’ve invested heavily in making LangGraph the go-to framework for building AI agents. Up to this point, we’ve had one higher level abstraction and it’s lived in the main langgraph package. We are also introducing a new set of prebuilt agents built on top of LangGraph, in both Python and JavaScript. LangGraph Supervisor: for getting started with a supervisor multi-agent architecture LangGraph Swarm: for getting started with a swarm multi-agent architecture We hope that this will foster a large collection of prebuilt agents built by the community. We hope the same will happen with LangGraph prebuilt agents.\", \"score\": 0.41748574, \"raw_content\": null}], \"response_time\": 1.91}\n",
      "==================================\u001b[1m Ai Message \u001b[0m==================================\n",
      "Tool Calls:\n",
      "  human_assistance (call_knfiM0fqEZ95T3RL8EobN4e0)\n",
      " Call ID: call_knfiM0fqEZ95T3RL8EobN4e0\n",
      "  Args:\n",
      "    name: LangGraph\n",
      "    birthday: 2023-01-01\n"
     ]
    }
   ],
   "source": [
    "user_input = (\n",
    "    \"Can you look up when LangGraph was released? \"\n",
    "    \"When you have the answer, use the human_assistance tool for review.\"\n",
    ")\n",
    "config = {\"configurable\": {\"thread_id\": \"1\"}}\n",
    "\n",
    "events = graph.stream(\n",
    "    {\"messages\": [{\"role\": \"user\", \"content\": user_input}]},\n",
    "    config,\n",
    "    stream_mode=\"values\",\n",
    ")\n",
    "for event in events:\n",
    "    if \"messages\" in event:\n",
    "        event[\"messages\"][-1].pretty_print()"
   ]
  },
  {
   "cell_type": "code",
   "execution_count": 53,
   "metadata": {},
   "outputs": [
    {
     "name": "stdout",
     "output_type": "stream",
     "text": [
      "==================================\u001b[1m Ai Message \u001b[0m==================================\n",
      "Tool Calls:\n",
      "  human_assistance (call_knfiM0fqEZ95T3RL8EobN4e0)\n",
      " Call ID: call_knfiM0fqEZ95T3RL8EobN4e0\n",
      "  Args:\n",
      "    name: LangGraph\n",
      "    birthday: 2023-01-01\n",
      "=================================\u001b[1m Tool Message \u001b[0m=================================\n",
      "Name: human_assistance\n",
      "\n",
      "Made a correction: {'name': 'LangGraph', 'birthday': 'Jan 17, 2024'}\n",
      "==================================\u001b[1m Ai Message \u001b[0m==================================\n",
      "\n",
      "LangGraph is set to be released on January 17, 2024.\n"
     ]
    }
   ],
   "source": [
    "human_command = Command(\n",
    "    resume={\n",
    "        \"name\": \"LangGraph\",\n",
    "        \"birthday\": \"Jan 17, 2024\",\n",
    "    },\n",
    ")\n",
    "\n",
    "events = graph.stream(human_command, config, stream_mode=\"values\")\n",
    "for event in events:\n",
    "    if \"messages\" in event:\n",
    "        event[\"messages\"][-1].pretty_print()"
   ]
  },
  {
   "cell_type": "code",
   "execution_count": 54,
   "metadata": {},
   "outputs": [
    {
     "data": {
      "text/plain": [
       "{'name': 'LangGraph', 'birthday': 'Jan 17, 2024'}"
      ]
     },
     "execution_count": 54,
     "metadata": {},
     "output_type": "execute_result"
    }
   ],
   "source": [
    "snapshot = graph.get_state(config)\n",
    "\n",
    "{k: v for k, v in snapshot.values.items() if k in (\"name\", \"birthday\")}"
   ]
  },
  {
   "cell_type": "code",
   "execution_count": 55,
   "metadata": {},
   "outputs": [],
   "source": [
    "from typing import Annotated\n",
    "\n",
    "from langchain.chat_models import init_chat_model\n",
    "from langchain_tavily import TavilySearch\n",
    "from langchain_core.messages import BaseMessage\n",
    "from typing_extensions import TypedDict\n",
    "\n",
    "from langgraph.checkpoint.memory import MemorySaver\n",
    "from langgraph.graph import StateGraph, START, END\n",
    "from langgraph.graph.message import add_messages\n",
    "from langgraph.prebuilt import ToolNode, tools_condition\n",
    "\n",
    "\n",
    "class State(TypedDict):\n",
    "    messages: Annotated[list, add_messages]\n",
    "\n",
    "\n",
    "graph_builder = StateGraph(State)\n",
    "\n",
    "\n",
    "tool = TavilySearch(max_results=2)\n",
    "tools = [tool]\n",
    "llm = init_chat_model(\"gpt-4o-mini\", model_provider=\"openai\")\n",
    "llm_with_tools = llm.bind_tools(tools)\n",
    "\n",
    "\n",
    "def chatbot(state: State):\n",
    "    return {\"messages\": [llm_with_tools.invoke(state[\"messages\"])]}\n",
    "\n",
    "\n",
    "graph_builder.add_node(\"chatbot\", chatbot)\n",
    "\n",
    "tool_node = ToolNode(tools=[tool])\n",
    "graph_builder.add_node(\"tools\", tool_node)\n",
    "\n",
    "graph_builder.add_conditional_edges(\n",
    "    \"chatbot\",\n",
    "    tools_condition,\n",
    ")\n",
    "graph_builder.add_edge(\"tools\", \"chatbot\")\n",
    "graph_builder.add_edge(START, \"chatbot\")\n",
    "\n",
    "memory = MemorySaver()\n",
    "graph = graph_builder.compile(checkpointer=memory)"
   ]
  },
  {
   "cell_type": "code",
   "execution_count": 56,
   "metadata": {},
   "outputs": [
    {
     "name": "stdout",
     "output_type": "stream",
     "text": [
      "================================\u001b[1m Human Message \u001b[0m=================================\n",
      "\n",
      "I'm learning LangGraph. Could you do some research on it for me?\n",
      "==================================\u001b[1m Ai Message \u001b[0m==================================\n",
      "Tool Calls:\n",
      "  tavily_search (call_vvURne0KzmLLbMc3I6WFJJjC)\n",
      " Call ID: call_vvURne0KzmLLbMc3I6WFJJjC\n",
      "  Args:\n",
      "    query: LangGraph programming\n",
      "    search_depth: advanced\n",
      "=================================\u001b[1m Tool Message \u001b[0m=================================\n",
      "Name: tavily_search\n",
      "\n",
      "{\"query\": \"LangGraph programming\", \"follow_up_questions\": null, \"answer\": null, \"images\": [], \"results\": [{\"url\": \"https://realpython.com/langgraph-python/\", \"title\": \"LangGraph: Build Stateful AI Agents in Python - Real Python\", \"content\": \"Remove ads\\nLangGraph is a versatile Python library designed for stateful, cyclic, and multi-actor Large Language Model (LLM) applications. LangGraph builds upon its parent library, LangChain, and allows you to build sophisticated workflows that are capable of handling the complexities of real-world LLM applications.\\nBy the end of this tutorial, you’ll understand that: [...] These FAQs are related to the most important concepts you’ve covered in this tutorial. Click the Show/Hide toggle beside each question to reveal the answer.\\nWhat is LangGraph?Show/Hide\\nLangGraph is a Python library that helps you build stateful, cyclic, and multi-actor workflows for Large Language Model (LLM) applications, expanding upon LangChain’s capabilities.\\nHow does LangGraph differ from LangChain?Show/Hide [...] As you might have inferred from the name, LangGraph is all about implementing LLM applications as directed graphs. You can think of a directed graph as a sequence of instructions composed of nodes and edges, that tell you how to complete a task. In LangGraph, nodes represent actions that your graph can take, such as calling a function, and edges tell you which node to go to next.\\nTo understand this better, take a look at this directed graph:\", \"score\": 0.8405867, \"raw_content\": null}, {\"url\": \"https://langchain-ai.github.io/langgraph/\", \"title\": \"LangGraph - GitHub Pages\", \"content\": \"Note\\nLooking for the JS version? See the JS repo and the JS docs.\\nLangGraph — used by Replit, Uber, LinkedIn, GitLab and more — is a low-level orchestration framework for building controllable agents. While langchain provides integrations and composable components to streamline LLM application development, the LangGraph library enables agent orchestration — offering customizable architectures, long-term memory, and human-in-the-loop to reliably handle complex tasks.\", \"score\": 0.79215926, \"raw_content\": null}], \"response_time\": 1.23}\n",
      "==================================\u001b[1m Ai Message \u001b[0m==================================\n",
      "\n",
      "LangGraph is an advanced Python library designed specifically for creating stateful, cyclic, and multi-actor workflows for Large Language Model (LLM) applications. Here are some key highlights about LangGraph:\n",
      "\n",
      "1. **Building on LangChain**: LangGraph expands upon its precursor, LangChain, by allowing developers to create sophisticated workflows that can manage the intricacies of real-world LLM applications.\n",
      "\n",
      "2. **Directed Graph Architecture**: The core concept of LangGraph revolves around implementing LLM applications as directed graphs. In this structure:\n",
      "   - **Nodes** represent actions or operations that can be performed, like calling a function.\n",
      "   - **Edges** dictate the flow between these nodes, essentially forming a sequence of instructions for completing a task.\n",
      "\n",
      "3. **Use Cases and Adoption**: LangGraph is utilized by major companies like Replit, Uber, LinkedIn, and GitLab, indicating its effectiveness in building controllable agents for various applications.\n",
      "\n",
      "4. **Features**: The library offers advanced features such as:\n",
      "   - Customizable architectures for better control over agent behavior.\n",
      "   - Long-term memory capabilities.\n",
      "   - Integration of human feedback for improved task handling.\n",
      "\n",
      "For further exploration, you can visit the following resources:\n",
      "- [Real Python - LangGraph Tutorial](https://realpython.com/langgraph-python/) for an in-depth guide and examples.\n",
      "- [LangGraph Documentation on GitHub Pages](https://langchain-ai.github.io/langgraph/) for additional details on features and usage.\n",
      "\n",
      "These resources provide a comprehensive introduction to LangGraph, its functionalities, and its practical applications.\n"
     ]
    }
   ],
   "source": [
    "config = {\"configurable\": {\"thread_id\": \"1\"}}\n",
    "events = graph.stream(\n",
    "    {\n",
    "        \"messages\": [\n",
    "            {\n",
    "                \"role\": \"user\",\n",
    "                \"content\": (\n",
    "                    \"I'm learning LangGraph. \"\n",
    "                    \"Could you do some research on it for me?\"\n",
    "                ),\n",
    "            },\n",
    "        ],\n",
    "    },\n",
    "    config,\n",
    "    stream_mode=\"values\",\n",
    ")\n",
    "for event in events:\n",
    "    if \"messages\" in event:\n",
    "        event[\"messages\"][-1].pretty_print()"
   ]
  },
  {
   "cell_type": "code",
   "execution_count": 57,
   "metadata": {},
   "outputs": [
    {
     "name": "stdout",
     "output_type": "stream",
     "text": [
      "================================\u001b[1m Human Message \u001b[0m=================================\n",
      "\n",
      "Ya that's helpful. Maybe I'll build an autonomous agent with it!\n",
      "==================================\u001b[1m Ai Message \u001b[0m==================================\n",
      "\n",
      "That sounds like an exciting project! Building an autonomous agent with LangGraph can be a rewarding experience, as it allows you to leverage the capabilities of Large Language Models while creating complex workflows. Here are a few tips to consider as you start your project:\n",
      "\n",
      "1. **Define the Scope**: Clearly outline what tasks you want your agent to perform. This can help you structure your nodes and edges effectively.\n",
      "\n",
      "2. **Utilize Documentation**: Make use of available documentation and tutorials to understand the features and functionalities that LangGraph offers. This will help you implement best practices in your project.\n",
      "\n",
      "3. **Experiment with Graph Structures**: Take advantage of the directed graph structure to optimize the flow of actions. Experiment with different architectures to see what works best for your specific use case.\n",
      "\n",
      "4. **Incorporate Feedback**: If your agent interacts with users, consider implementing a feedback loop to refine its responses and actions based on user input.\n",
      "\n",
      "5. **Test Rigorously**: Autonomous agents can encounter unexpected situations, so thorough testing is essential to ensure that your agent behaves as intended under various scenarios.\n",
      "\n",
      "Feel free to reach out if you have more questions or need further guidance as you work on your autonomous agent! Good luck with your project!\n"
     ]
    }
   ],
   "source": [
    "events = graph.stream(\n",
    "    {\n",
    "        \"messages\": [\n",
    "            {\n",
    "                \"role\": \"user\",\n",
    "                \"content\": (\n",
    "                    \"Ya that's helpful. Maybe I'll \"\n",
    "                    \"build an autonomous agent with it!\"\n",
    "                ),\n",
    "            },\n",
    "        ],\n",
    "    },\n",
    "    config,\n",
    "    stream_mode=\"values\",\n",
    ")\n",
    "for event in events:\n",
    "    if \"messages\" in event:\n",
    "        event[\"messages\"][-1].pretty_print()"
   ]
  },
  {
   "cell_type": "code",
   "execution_count": 58,
   "metadata": {},
   "outputs": [
    {
     "name": "stdout",
     "output_type": "stream",
     "text": [
      "Num Messages:  6 Next:  ()\n",
      "--------------------------------------------------------------------------------\n",
      "Num Messages:  5 Next:  ('chatbot',)\n",
      "--------------------------------------------------------------------------------\n",
      "Num Messages:  4 Next:  ('__start__',)\n",
      "--------------------------------------------------------------------------------\n",
      "Num Messages:  4 Next:  ()\n",
      "--------------------------------------------------------------------------------\n",
      "Num Messages:  3 Next:  ('chatbot',)\n",
      "--------------------------------------------------------------------------------\n",
      "Num Messages:  2 Next:  ('tools',)\n",
      "--------------------------------------------------------------------------------\n",
      "Num Messages:  1 Next:  ('chatbot',)\n",
      "--------------------------------------------------------------------------------\n",
      "Num Messages:  0 Next:  ('__start__',)\n",
      "--------------------------------------------------------------------------------\n"
     ]
    }
   ],
   "source": [
    "to_replay = None\n",
    "for state in graph.get_state_history(config):\n",
    "    print(\"Num Messages: \", len(state.values[\"messages\"]), \"Next: \", state.next)\n",
    "    print(\"-\" * 80)\n",
    "    if len(state.values[\"messages\"]) == 6:\n",
    "        # We are somewhat arbitrarily selecting a specific state based on the number of chat messages in the state.\n",
    "        to_replay = state"
   ]
  },
  {
   "cell_type": "code",
   "execution_count": 59,
   "metadata": {},
   "outputs": [
    {
     "name": "stdout",
     "output_type": "stream",
     "text": [
      "()\n",
      "{'configurable': {'thread_id': '1', 'checkpoint_ns': '', 'checkpoint_id': '1f02ad6d-ac13-632e-8006-862839649080'}}\n"
     ]
    }
   ],
   "source": [
    "print(to_replay.next)\n",
    "print(to_replay.config)"
   ]
  },
  {
   "cell_type": "code",
   "execution_count": 60,
   "metadata": {},
   "outputs": [
    {
     "name": "stdout",
     "output_type": "stream",
     "text": [
      "==================================\u001b[1m Ai Message \u001b[0m==================================\n",
      "\n",
      "That sounds like an exciting project! Building an autonomous agent with LangGraph can be a rewarding experience, as it allows you to leverage the capabilities of Large Language Models while creating complex workflows. Here are a few tips to consider as you start your project:\n",
      "\n",
      "1. **Define the Scope**: Clearly outline what tasks you want your agent to perform. This can help you structure your nodes and edges effectively.\n",
      "\n",
      "2. **Utilize Documentation**: Make use of available documentation and tutorials to understand the features and functionalities that LangGraph offers. This will help you implement best practices in your project.\n",
      "\n",
      "3. **Experiment with Graph Structures**: Take advantage of the directed graph structure to optimize the flow of actions. Experiment with different architectures to see what works best for your specific use case.\n",
      "\n",
      "4. **Incorporate Feedback**: If your agent interacts with users, consider implementing a feedback loop to refine its responses and actions based on user input.\n",
      "\n",
      "5. **Test Rigorously**: Autonomous agents can encounter unexpected situations, so thorough testing is essential to ensure that your agent behaves as intended under various scenarios.\n",
      "\n",
      "Feel free to reach out if you have more questions or need further guidance as you work on your autonomous agent! Good luck with your project!\n"
     ]
    }
   ],
   "source": [
    "# The `checkpoint_id` in the `to_replay.config` corresponds to a state we've persisted to our checkpointer.\n",
    "for event in graph.stream(None, to_replay.config, stream_mode=\"values\"):\n",
    "    if \"messages\" in event:\n",
    "        event[\"messages\"][-1].pretty_print()"
   ]
  },
  {
   "cell_type": "code",
   "execution_count": null,
   "metadata": {},
   "outputs": [],
   "source": []
  }
 ],
 "metadata": {
  "kernelspec": {
   "display_name": "tx",
   "language": "python",
   "name": "python3"
  },
  "language_info": {
   "codemirror_mode": {
    "name": "ipython",
    "version": 3
   },
   "file_extension": ".py",
   "mimetype": "text/x-python",
   "name": "python",
   "nbconvert_exporter": "python",
   "pygments_lexer": "ipython3",
   "version": "3.11.4"
  }
 },
 "nbformat": 4,
 "nbformat_minor": 2
}
