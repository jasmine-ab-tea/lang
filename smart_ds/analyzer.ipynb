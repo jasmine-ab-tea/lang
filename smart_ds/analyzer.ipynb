{
 "cells": [
  {
   "cell_type": "code",
   "execution_count": 1,
   "metadata": {},
   "outputs": [],
   "source": [
    "import getpass\n",
    "import os\n",
    "from langchain_community.utilities import SQLDatabase\n",
    "from sqlalchemy import create_engine\n",
    "import pandas as pd\n",
    "from typing import Annotated\n",
    "from typing_extensions import TypedDict\n",
    "from langgraph.graph.message import add_messages\n",
    "from langchain_core.tools import tool\n",
    "from langchain_core.prompts import ChatPromptTemplate\n",
    "from langchain_community.tools.sql_database.tool import QuerySQLDatabaseTool\n",
    "from langchain_core.messages import SystemMessage, HumanMessage, ToolMessage\n",
    "from langgraph.graph import StateGraph, START, END\n",
    "from IPython.display import Image, display\n",
    "from langgraph.graph import MessagesState\n",
    "from typing_extensions import Literal\n",
    "\n",
    "\n",
    "try:\n",
    "    # load environment variables from .env file (requires `python-dotenv`)\n",
    "    from dotenv import load_dotenv\n",
    "    load_dotenv()\n",
    "except ImportError:\n",
    "    pass\n",
    "\n",
    "os.environ[\"LANGSMITH_TRACING\"] = \"true\"\n",
    "if \"LANGSMITH_API_KEY\" not in os.environ:\n",
    "    os.environ[\"LANGSMITH_API_KEY\"] = getpass.getpass(\n",
    "        prompt=\"Enter your LangSmith API key (optional): \"\n",
    "    )\n",
    "if \"LANGSMITH_PROJECT\" not in os.environ:\n",
    "    os.environ[\"LANGSMITH_PROJECT\"] = getpass.getpass(\n",
    "        prompt='Enter your LangSmith Project Name (default = \"default\"): '\n",
    "    )\n",
    "    if not os.environ.get(\"LANGSMITH_PROJECT\"):\n",
    "        os.environ[\"LANGSMITH_PROJECT\"] = \"default\"\n",
    "if \"OPENAI_API_KEY\" not in os.environ:\n",
    "    os.environ[\"OPENAI_API_KEY\"] = getpass.getpass(\n",
    "        prompt=\"Enter your OpenAI API key (required if using OpenAI): \"\n",
    "    )\n",
    "\n",
    "# Create a SQLAlchemy engine\n",
    "engine = create_engine('sqlite:///experiment_data.db')\n",
    "\n",
    "# Load the experiment_data.csv into the database before initializing SQLDatabase\n",
    "df = pd.read_csv('/Users/yixin/Projects/lang/smart_ds/experiment_data.csv')\n",
    "df.to_sql('experiment_data', con=engine, if_exists='replace', index=False)\n",
    "\n",
    "# Initialize the SQLDatabase with the engine\n",
    "db = SQLDatabase(engine)\n",
    "\n",
    "# Initialize Language model\n",
    "from langchain.chat_models import init_chat_model\n",
    "llm = init_chat_model(\"gpt-4o-mini\", model_provider=\"openai\")\n",
    "\n",
    "# Define tools\n",
    "@tool\n",
    "def generate_and_execute_sql(question):\n",
    "    \"\"\"\n",
    "    Given an input human question in English, create a syntactically correct sqlite query to\n",
    "    run to help find the answer\n",
    "    \"\"\"\n",
    "\n",
    "    # Annotations must have the type and can optionally include a default value and description (in that order).\n",
    "    question: Annotated[str, ..., \"Question\"]\n",
    "\n",
    "    system_message = \"\"\"\n",
    "    Given an input question, create a syntactically correct {dialect} query to\n",
    "    run to help find the answer. Unless the user specifies in his question a\n",
    "    specific number of examples they wish to obtain, always limit your query to\n",
    "    at most {top_k} results. You can order the results by a relevant column to\n",
    "    return the most interesting examples in the database.\n",
    "\n",
    "    Never query for all the columns from a specific table, only ask for a the\n",
    "    few relevant columns given the question.\n",
    "\n",
    "    Pay attention to use only the column names that you can see in the schema\n",
    "    description. Be careful to not query for columns that do not exist. Also,\n",
    "    pay attention to which column is in which table.\n",
    "\n",
    "    Only use the following tables:\n",
    "    {table_info}\n",
    "    \"\"\"\n",
    "\n",
    "    user_prompt = \"Question: {input}\"\n",
    "\n",
    "    query_prompt_template = ChatPromptTemplate(\n",
    "        [(\"system\", system_message), (\"user\", user_prompt)]\n",
    "    )\n",
    "\n",
    "    class QueryOutput(TypedDict):\n",
    "        \"\"\"Generated SQL query.\"\"\"\n",
    "        query: Annotated[str, ..., \"Syntactically valid SQL query.\"]\n",
    "\n",
    "    prompt = query_prompt_template.invoke(\n",
    "        {\n",
    "            \"dialect\": db.dialect,\n",
    "            \"top_k\": 100,\n",
    "            \"table_info\": db.get_table_info(),\n",
    "            \"input\": question,\n",
    "        }\n",
    "    )\n",
    "    structured_llm = llm.with_structured_output(QueryOutput)\n",
    "    query = structured_llm.invoke(prompt)\n",
    "    execute_query_tool = QuerySQLDatabaseTool(db=db)\n",
    "    return execute_query_tool.invoke(query)\n",
    "\n",
    "# Augment the LLM with tools\n",
    "tools = [generate_and_execute_sql]\n",
    "tools_by_name = {tool.name: tool for tool in tools}\n",
    "llm_with_tools = llm.bind_tools(tools)\n",
    "\n",
    "# Define Node\n",
    "class State(TypedDict):\n",
    "    messages: Annotated[list, add_messages]\n",
    "    query: str\n",
    "    result: str\n",
    "    answer: str\n",
    "\n",
    "def tool_node(state: State):\n",
    "    \"\"\"Performs the tool call\"\"\"\n",
    "\n",
    "    result = []\n",
    "    for tool_call in state[\"messages\"][-1].tool_calls:\n",
    "        tool = tools_by_name[tool_call[\"name\"]]\n",
    "        observation = tool.invoke(tool_call[\"args\"])\n",
    "        result.append(ToolMessage(content=observation, tool_call_id=tool_call[\"id\"]))\n",
    "    return {\"messages\": result}\n",
    "\n",
    "def llm_call(state: State):\n",
    "    \"\"\"LLM decides whether to call a tool or not\"\"\"\n",
    "\n",
    "    return {\n",
    "        \"messages\": \n",
    "            llm_with_tools.invoke(\n",
    "                [\n",
    "                    SystemMessage(\n",
    "                        content=\"You are a helpful assistant tasked with performing arithmetic on a set of inputs.\"\n",
    "                    )\n",
    "                ]\n",
    "                + state[\"messages\"]\n",
    "            )        \n",
    "    }\n",
    "\n",
    "# Conditional edge function to route to the tool node or end based upon whether the LLM made a tool call\n",
    "def should_continue(state: MessagesState) -> Literal[\"environment\", END]:\n",
    "    \"\"\"Decide if we should continue the loop or stop based upon whether the LLM made a tool call\"\"\"\n",
    "\n",
    "    messages = state[\"messages\"]\n",
    "    last_message = messages[-1]\n",
    "    # If the LLM makes a tool call, then perform an action\n",
    "    if last_message.tool_calls:\n",
    "        return \"Action\"\n",
    "    # Otherwise, we stop (reply to the user)\n",
    "    return END"
   ]
  },
  {
   "cell_type": "code",
   "execution_count": 9,
   "metadata": {},
   "outputs": [
    {
     "data": {
      "text/plain": [
       "('[',\n",
       " '(1, 0.2054792820232115, 0), (2, 0.2723859937913791, 0), (3, 0.2624978915182918, 0), (4, 0.2498531597900225, 1), (5, 0.2248228539213531, 1), (6, 0.2540644526065223, 1), (7, 0.2178004209429416, 1), (8, 0.1979183871492253, 0), (9, 0.1560251558485576, 1), (10, 0.1453296547949505, 0), (11, 0.1463412401985573, 0), (12, 0.3463476698418115, 1), (13, 0.2718147587020391, 1), (14, 0.265596105682039, 1), (15, 0.2388232556029091, 1), (16, 0.2400999125387863, 0), (17, 0.2962062540986674, 1), (18, 0.1943973488886741, 1), (19, 0.1622544219526337, 0), (20, 0.2423521460361604, 1), (21, 0.2397104496609722, 1), (22, 0.3046374363570699, 1), (23, 0.2651074978673247, 1), (24, 0.2643392409413033, 1), (25, 0.23091933093584, 0), (26, 0.2863034717131146, 1), (27, 0.1933100738265228, 1), (28, 0.1730112460663322, 0), (29, 0.2072349978975101, 0), (30, 0.2890202579309981, 1), (31, 0.3491830963667772, 1), (32, 0.3339014501907602, 1), (33, 0.3633743855687934, 1), (34, 0.2066289394438615, 1), (35, 0.3584979297892088, 1), (36, 0.2112771797970961, 0), (37, 0.3600403465080626, 1), (38, 0.2739539821800024, 1), (39, 0.3710472469807874, 1), (40, 0.1868847956779663, 1), (41, 0.2657352753108793, 0), (42, 0.3043486365389582, 1), (43, 0.1878562418452852, 1), (44, 0.3588041010523642, 1), (45, 0.2605077112313326, 0), (46, 0.2499754294732783, 0), (47, 0.3187039847973514, 1), (48, 0.3250766143724011, 1), (49, 0.3289757019839455, 1), (50, 0.216943184284357, 0), (51, 0.307386986791192, 1), (52, 0.2626237222539634, 0), (53, 0.356439390960356, 1), (54, 0.3450303370051732, 1), (55, 0.2699597889399601, 0), (56, 0.3359390360443717, 1), (57, 0.1902167159963907, 1), (58, 0.2712168575228925, 0), (59, 0.2105688376054443, 0), (60, 0.2740066567294058, 1), (61, 0.2547156228597031, 0), (62, 0.3047010594095788, 1), (63, 0.1448456324347019, 0), (64, 0.3780641180790945, 1), (65, 0.2452931661364301, 1), (66, 0.2483664509264608, 0), (67, 0.1069916125397943, 0), (68, 0.2980746008975483, 1), (69, 0.3495587998751929, 1), (70, 0.2221914048319702, 0), (71, 0.1661914737496987, 0), (72, 0.1077692659903166, 0), (73, 0.2625207424818831, 0), (74, 0.2356391584622943, 0), (75, 0.3301908447070493, 1), (76, 0.2030244329508545, 0), (77, 0.2814457180241373, 1), (78, 0.3398555690961121, 1), (79, 0.2810448239452152, 0), (80, 0.3781166085118095, 1), (81, 0.3129110897191015, 1), (82, 0.2231968225286233, 0), (83, 0.1806329867650643, 0), (84, 0.2154821771840924, 0), (85, 0.3118964960674123, 1), (86, 0.2129811890997435, 1), (87, 0.250547057080968, 1), (88, 0.3115824538461756, 1), (89, 0.2848617945664035, 0), (90, 0.2543414370273113, 1), (91, 0.1366513729568566, 0), (92, 0.2625762243249904, 0), (93, 0.2358877950654393, 1), (94, 0.2359608652527185, 1), (95, 0.1856288376913984, 0), (96, 0.2742676079909204, 0), (97, 0.2348744718308107, 0), (98, 0.3274694556360794, 1), (99, 0.2262212342739899, 0), (100, 0.3164466488913065, 1)]')"
      ]
     },
     "execution_count": 9,
     "metadata": {},
     "output_type": "execute_result"
    }
   ],
   "source": [
    "execute_query_tool = QuerySQLDatabaseTool(db=db)\n",
    "result = execute_query_tool.invoke(\"select * from experiment_data\")\n",
    "# Assuming result is a list of tuples, where the first tuple contains column names\n",
    "column_names = result[0] if result else []\n",
    "data_rows = result[1:] if result else []\n",
    "(column_names, data_rows)"
   ]
  },
  {
   "cell_type": "code",
   "execution_count": 10,
   "metadata": {},
   "outputs": [
    {
     "name": "stderr",
     "output_type": "stream",
     "text": [
      "/var/folders/z3/cbyd2nws5s73q2r3gszpxz8c0000gn/T/ipykernel_62974/1248700241.py:9: FutureWarning: Series.__getitem__ treating keys as positions is deprecated. In a future version, integer keys will always be treated as labels (consistent with DataFrame behavior). To access a value by position, use `ser.iloc[pos]`\n",
      "  treatment_effect = model.params[1]  # Coefficient for the treatment group\n",
      "/var/folders/z3/cbyd2nws5s73q2r3gszpxz8c0000gn/T/ipykernel_62974/1248700241.py:10: FutureWarning: Series.__getitem__ treating keys as positions is deprecated. In a future version, integer keys will always be treated as labels (consistent with DataFrame behavior). To access a value by position, use `ser.iloc[pos]`\n",
      "  p_value = model.pvalues[1]  # P-value for the treatment group\n"
     ]
    },
    {
     "data": {
      "text/plain": [
       "(0.06908631692516938, 7.894195541419475e-09)"
      ]
     },
     "execution_count": 10,
     "metadata": {},
     "output_type": "execute_result"
    }
   ],
   "source": [
    "def compute_treatment_effect(df: pd.DataFrame, metric_col='metric', experiment_group_col='experiment_group'):\n",
    "    from statsmodels.formula.api import ols\n",
    "    # Define the formula for the linear regression\n",
    "    formula = f\"{metric_col} ~ C({experiment_group_col})\"\n",
    "    # Fit the model\n",
    "    model = ols(formula, data=df).fit()\n",
    "\n",
    "    # Extract the treatment effect and p-value\n",
    "    treatment_effect = model.params[1]  # Coefficient for the treatment group\n",
    "    p_value = model.pvalues[1]  # P-value for the treatment group\n",
    "    return float(treatment_effect), float(p_value)\n",
    "\n",
    "compute_treatment_effect(df, metric_col='conversion_rate')"
   ]
  },
  {
   "cell_type": "code",
   "execution_count": null,
   "metadata": {},
   "outputs": [
    {
     "ename": "AttributeError",
     "evalue": "'str' object has no attribute 'parent_run_id'",
     "output_type": "error",
     "traceback": [
      "\u001b[31m---------------------------------------------------------------------------\u001b[39m",
      "\u001b[31mAttributeError\u001b[39m                            Traceback (most recent call last)",
      "\u001b[36mCell\u001b[39m\u001b[36m \u001b[39m\u001b[32mIn[15]\u001b[39m\u001b[32m, line 9\u001b[39m\n\u001b[32m      3\u001b[39m \u001b[38;5;250m    \u001b[39m\u001b[33;03m\"\"\"\u001b[39;00m\n\u001b[32m      4\u001b[39m \u001b[33;03m    Given a pandas dataframe and a column name, compute the variance of that column\u001b[39;00m\n\u001b[32m      5\u001b[39m \u001b[33;03m    \"\"\"\u001b[39;00m\n\u001b[32m      6\u001b[39m     \u001b[38;5;28;01mreturn\u001b[39;00m \u001b[38;5;28mfloat\u001b[39m(df[metric_col].var())\n\u001b[32m----> \u001b[39m\u001b[32m9\u001b[39m \u001b[43mcompute_variance\u001b[49m\u001b[43m(\u001b[49m\u001b[43mdf\u001b[49m\u001b[43m,\u001b[49m\u001b[43m \u001b[49m\u001b[33;43m'\u001b[39;49m\u001b[33;43mconversion_rate\u001b[39;49m\u001b[33;43m'\u001b[39;49m\u001b[43m)\u001b[49m\n",
      "\u001b[36mFile \u001b[39m\u001b[32m~/.pyenv/versions/3.11.4/envs/tx/lib/python3.11/site-packages/langchain_core/_api/deprecation.py:191\u001b[39m, in \u001b[36mdeprecated.<locals>.deprecate.<locals>.warning_emitting_wrapper\u001b[39m\u001b[34m(*args, **kwargs)\u001b[39m\n\u001b[32m    189\u001b[39m     warned = \u001b[38;5;28;01mTrue\u001b[39;00m\n\u001b[32m    190\u001b[39m     emit_warning()\n\u001b[32m--> \u001b[39m\u001b[32m191\u001b[39m \u001b[38;5;28;01mreturn\u001b[39;00m \u001b[43mwrapped\u001b[49m\u001b[43m(\u001b[49m\u001b[43m*\u001b[49m\u001b[43margs\u001b[49m\u001b[43m,\u001b[49m\u001b[43m \u001b[49m\u001b[43m*\u001b[49m\u001b[43m*\u001b[49m\u001b[43mkwargs\u001b[49m\u001b[43m)\u001b[49m\n",
      "\u001b[36mFile \u001b[39m\u001b[32m~/.pyenv/versions/3.11.4/envs/tx/lib/python3.11/site-packages/langchain_core/tools/base.py:896\u001b[39m, in \u001b[36mBaseTool.__call__\u001b[39m\u001b[34m(self, tool_input, callbacks)\u001b[39m\n\u001b[32m    893\u001b[39m \u001b[38;5;129m@deprecated\u001b[39m(\u001b[33m\"\u001b[39m\u001b[33m0.1.47\u001b[39m\u001b[33m\"\u001b[39m, alternative=\u001b[33m\"\u001b[39m\u001b[33minvoke\u001b[39m\u001b[33m\"\u001b[39m, removal=\u001b[33m\"\u001b[39m\u001b[33m1.0\u001b[39m\u001b[33m\"\u001b[39m)\n\u001b[32m    894\u001b[39m \u001b[38;5;28;01mdef\u001b[39;00m\u001b[38;5;250m \u001b[39m\u001b[34m__call__\u001b[39m(\u001b[38;5;28mself\u001b[39m, tool_input: \u001b[38;5;28mstr\u001b[39m, callbacks: Callbacks = \u001b[38;5;28;01mNone\u001b[39;00m) -> \u001b[38;5;28mstr\u001b[39m:\n\u001b[32m    895\u001b[39m \u001b[38;5;250m    \u001b[39m\u001b[33;03m\"\"\"Make tool callable.\"\"\"\u001b[39;00m\n\u001b[32m--> \u001b[39m\u001b[32m896\u001b[39m     \u001b[38;5;28;01mreturn\u001b[39;00m \u001b[38;5;28;43mself\u001b[39;49m\u001b[43m.\u001b[49m\u001b[43mrun\u001b[49m\u001b[43m(\u001b[49m\u001b[43mtool_input\u001b[49m\u001b[43m,\u001b[49m\u001b[43m \u001b[49m\u001b[43mcallbacks\u001b[49m\u001b[43m=\u001b[49m\u001b[43mcallbacks\u001b[49m\u001b[43m)\u001b[49m\n",
      "\u001b[36mFile \u001b[39m\u001b[32m~/.pyenv/versions/3.11.4/envs/tx/lib/python3.11/site-packages/langchain_core/tools/base.py:705\u001b[39m, in \u001b[36mBaseTool.run\u001b[39m\u001b[34m(self, tool_input, verbose, start_color, color, callbacks, tags, metadata, run_name, run_id, config, tool_call_id, **kwargs)\u001b[39m\n\u001b[32m    667\u001b[39m \u001b[38;5;28;01mdef\u001b[39;00m\u001b[38;5;250m \u001b[39m\u001b[34mrun\u001b[39m(\n\u001b[32m    668\u001b[39m     \u001b[38;5;28mself\u001b[39m,\n\u001b[32m    669\u001b[39m     tool_input: Union[\u001b[38;5;28mstr\u001b[39m, \u001b[38;5;28mdict\u001b[39m[\u001b[38;5;28mstr\u001b[39m, Any]],\n\u001b[32m   (...)\u001b[39m\u001b[32m    681\u001b[39m     **kwargs: Any,\n\u001b[32m    682\u001b[39m ) -> Any:\n\u001b[32m    683\u001b[39m \u001b[38;5;250m    \u001b[39m\u001b[33;03m\"\"\"Run the tool.\u001b[39;00m\n\u001b[32m    684\u001b[39m \n\u001b[32m    685\u001b[39m \u001b[33;03m    Args:\u001b[39;00m\n\u001b[32m   (...)\u001b[39m\u001b[32m    703\u001b[39m \u001b[33;03m        ToolException: If an error occurs during tool execution.\u001b[39;00m\n\u001b[32m    704\u001b[39m \u001b[33;03m    \"\"\"\u001b[39;00m\n\u001b[32m--> \u001b[39m\u001b[32m705\u001b[39m     callback_manager = \u001b[43mCallbackManager\u001b[49m\u001b[43m.\u001b[49m\u001b[43mconfigure\u001b[49m\u001b[43m(\u001b[49m\n\u001b[32m    706\u001b[39m \u001b[43m        \u001b[49m\u001b[43mcallbacks\u001b[49m\u001b[43m,\u001b[49m\n\u001b[32m    707\u001b[39m \u001b[43m        \u001b[49m\u001b[38;5;28;43mself\u001b[39;49m\u001b[43m.\u001b[49m\u001b[43mcallbacks\u001b[49m\u001b[43m,\u001b[49m\n\u001b[32m    708\u001b[39m \u001b[43m        \u001b[49m\u001b[38;5;28;43mself\u001b[39;49m\u001b[43m.\u001b[49m\u001b[43mverbose\u001b[49m\u001b[43m \u001b[49m\u001b[38;5;129;43;01mor\u001b[39;49;00m\u001b[43m \u001b[49m\u001b[38;5;28;43mbool\u001b[39;49m\u001b[43m(\u001b[49m\u001b[43mverbose\u001b[49m\u001b[43m)\u001b[49m\u001b[43m,\u001b[49m\n\u001b[32m    709\u001b[39m \u001b[43m        \u001b[49m\u001b[43mtags\u001b[49m\u001b[43m,\u001b[49m\n\u001b[32m    710\u001b[39m \u001b[43m        \u001b[49m\u001b[38;5;28;43mself\u001b[39;49m\u001b[43m.\u001b[49m\u001b[43mtags\u001b[49m\u001b[43m,\u001b[49m\n\u001b[32m    711\u001b[39m \u001b[43m        \u001b[49m\u001b[43mmetadata\u001b[49m\u001b[43m,\u001b[49m\n\u001b[32m    712\u001b[39m \u001b[43m        \u001b[49m\u001b[38;5;28;43mself\u001b[39;49m\u001b[43m.\u001b[49m\u001b[43mmetadata\u001b[49m\u001b[43m,\u001b[49m\n\u001b[32m    713\u001b[39m \u001b[43m    \u001b[49m\u001b[43m)\u001b[49m\n\u001b[32m    715\u001b[39m     run_manager = callback_manager.on_tool_start(\n\u001b[32m    716\u001b[39m         {\u001b[33m\"\u001b[39m\u001b[33mname\u001b[39m\u001b[33m\"\u001b[39m: \u001b[38;5;28mself\u001b[39m.name, \u001b[33m\"\u001b[39m\u001b[33mdescription\u001b[39m\u001b[33m\"\u001b[39m: \u001b[38;5;28mself\u001b[39m.description},\n\u001b[32m    717\u001b[39m         tool_input \u001b[38;5;28;01mif\u001b[39;00m \u001b[38;5;28misinstance\u001b[39m(tool_input, \u001b[38;5;28mstr\u001b[39m) \u001b[38;5;28;01melse\u001b[39;00m \u001b[38;5;28mstr\u001b[39m(tool_input),\n\u001b[32m   (...)\u001b[39m\u001b[32m    726\u001b[39m         **kwargs,\n\u001b[32m    727\u001b[39m     )\n\u001b[32m    729\u001b[39m     content = \u001b[38;5;28;01mNone\u001b[39;00m\n",
      "\u001b[36mFile \u001b[39m\u001b[32m~/.pyenv/versions/3.11.4/envs/tx/lib/python3.11/site-packages/langchain_core/callbacks/manager.py:1576\u001b[39m, in \u001b[36mCallbackManager.configure\u001b[39m\u001b[34m(cls, inheritable_callbacks, local_callbacks, verbose, inheritable_tags, local_tags, inheritable_metadata, local_metadata)\u001b[39m\n\u001b[32m   1545\u001b[39m \u001b[38;5;129m@classmethod\u001b[39m\n\u001b[32m   1546\u001b[39m \u001b[38;5;28;01mdef\u001b[39;00m\u001b[38;5;250m \u001b[39m\u001b[34mconfigure\u001b[39m(\n\u001b[32m   1547\u001b[39m     \u001b[38;5;28mcls\u001b[39m,\n\u001b[32m   (...)\u001b[39m\u001b[32m   1554\u001b[39m     local_metadata: Optional[\u001b[38;5;28mdict\u001b[39m[\u001b[38;5;28mstr\u001b[39m, Any]] = \u001b[38;5;28;01mNone\u001b[39;00m,\n\u001b[32m   1555\u001b[39m ) -> CallbackManager:\n\u001b[32m   1556\u001b[39m \u001b[38;5;250m    \u001b[39m\u001b[33;03m\"\"\"Configure the callback manager.\u001b[39;00m\n\u001b[32m   1557\u001b[39m \n\u001b[32m   1558\u001b[39m \u001b[33;03m    Args:\u001b[39;00m\n\u001b[32m   (...)\u001b[39m\u001b[32m   1574\u001b[39m \u001b[33;03m        CallbackManager: The configured callback manager.\u001b[39;00m\n\u001b[32m   1575\u001b[39m \u001b[33;03m    \"\"\"\u001b[39;00m\n\u001b[32m-> \u001b[39m\u001b[32m1576\u001b[39m     \u001b[38;5;28;01mreturn\u001b[39;00m \u001b[43m_configure\u001b[49m\u001b[43m(\u001b[49m\n\u001b[32m   1577\u001b[39m \u001b[43m        \u001b[49m\u001b[38;5;28;43mcls\u001b[39;49m\u001b[43m,\u001b[49m\n\u001b[32m   1578\u001b[39m \u001b[43m        \u001b[49m\u001b[43minheritable_callbacks\u001b[49m\u001b[43m,\u001b[49m\n\u001b[32m   1579\u001b[39m \u001b[43m        \u001b[49m\u001b[43mlocal_callbacks\u001b[49m\u001b[43m,\u001b[49m\n\u001b[32m   1580\u001b[39m \u001b[43m        \u001b[49m\u001b[43minheritable_tags\u001b[49m\u001b[43m,\u001b[49m\n\u001b[32m   1581\u001b[39m \u001b[43m        \u001b[49m\u001b[43mlocal_tags\u001b[49m\u001b[43m,\u001b[49m\n\u001b[32m   1582\u001b[39m \u001b[43m        \u001b[49m\u001b[43minheritable_metadata\u001b[49m\u001b[43m,\u001b[49m\n\u001b[32m   1583\u001b[39m \u001b[43m        \u001b[49m\u001b[43mlocal_metadata\u001b[49m\u001b[43m,\u001b[49m\n\u001b[32m   1584\u001b[39m \u001b[43m        \u001b[49m\u001b[43mverbose\u001b[49m\u001b[43m=\u001b[49m\u001b[43mverbose\u001b[49m\u001b[43m,\u001b[49m\n\u001b[32m   1585\u001b[39m \u001b[43m    \u001b[49m\u001b[43m)\u001b[49m\n",
      "\u001b[36mFile \u001b[39m\u001b[32m~/.pyenv/versions/3.11.4/envs/tx/lib/python3.11/site-packages/langchain_core/callbacks/manager.py:2304\u001b[39m, in \u001b[36m_configure\u001b[39m\u001b[34m(callback_manager_cls, inheritable_callbacks, local_callbacks, inheritable_tags, local_tags, inheritable_metadata, local_metadata, verbose)\u001b[39m\n\u001b[32m   2298\u001b[39m     callback_manager = callback_manager_cls(\n\u001b[32m   2299\u001b[39m         handlers=inheritable_callbacks_.copy(),\n\u001b[32m   2300\u001b[39m         inheritable_handlers=inheritable_callbacks_.copy(),\n\u001b[32m   2301\u001b[39m         parent_run_id=parent_run_id,\n\u001b[32m   2302\u001b[39m     )\n\u001b[32m   2303\u001b[39m \u001b[38;5;28;01melse\u001b[39;00m:\n\u001b[32m-> \u001b[39m\u001b[32m2304\u001b[39m     parent_run_id_ = \u001b[43minheritable_callbacks\u001b[49m\u001b[43m.\u001b[49m\u001b[43mparent_run_id\u001b[49m\n\u001b[32m   2305\u001b[39m     \u001b[38;5;66;03m# Break ties between the external tracing context and inherited context\u001b[39;00m\n\u001b[32m   2306\u001b[39m     \u001b[38;5;28;01mif\u001b[39;00m parent_run_id \u001b[38;5;129;01mis\u001b[39;00m \u001b[38;5;129;01mnot\u001b[39;00m \u001b[38;5;28;01mNone\u001b[39;00m \u001b[38;5;129;01mand\u001b[39;00m (\n\u001b[32m   2307\u001b[39m         parent_run_id_ \u001b[38;5;129;01mis\u001b[39;00m \u001b[38;5;28;01mNone\u001b[39;00m\n\u001b[32m   2308\u001b[39m         \u001b[38;5;66;03m# If the LC parent has already been reflected\u001b[39;00m\n\u001b[32m   (...)\u001b[39m\u001b[32m   2311\u001b[39m         \u001b[38;5;129;01mor\u001b[39;00m (run_tree \u001b[38;5;129;01mand\u001b[39;00m \u001b[38;5;28mstr\u001b[39m(parent_run_id_) \u001b[38;5;129;01min\u001b[39;00m run_tree.dotted_order)\n\u001b[32m   2312\u001b[39m     ):\n",
      "\u001b[31mAttributeError\u001b[39m: 'str' object has no attribute 'parent_run_id'"
     ]
    }
   ],
   "source": [
    "@tool\n",
    "def compute_variance(df: pd.DataFrame, metric_col='metric'):\n",
    "    \"\"\"\n",
    "    Given a pandas dataframe and a column name, compute the variance of that column\n",
    "    \"\"\"\n",
    "\n",
    "    # Annotations must have the type and can optionally include a default value and description (in that order).\n",
    "    df: Annotated[pd.DataFrame, ..., \"Input Data\"]\n",
    "    df: Annotated[pd.DataFrame, ..., \"Input Data\"]\n",
    "    return float(df[metric_col].var())\n",
    "\n",
    "\n",
    "compute_variance(df, 'conversion_rate')\n"
   ]
  },
  {
   "cell_type": "code",
   "execution_count": 6,
   "metadata": {},
   "outputs": [
    {
     "data": {
      "image/png": "[encoded data removed]",
      "text/plain": [
       "<IPython.core.display.Image object>"
      ]
     },
     "metadata": {},
     "output_type": "display_data"
    }
   ],
   "source": [
    "# Build workflow\n",
    "agent_builder = StateGraph(State)\n",
    "# Add nodes\n",
    "agent_builder.add_node(\"llm_call\", llm_call)\n",
    "agent_builder.add_edge(START, \"llm_call\")\n",
    "\n",
    "agent_builder.add_node(\"environment\", tool_node)\n",
    "agent_builder.add_edge(\"llm_call\", \"environment\")\n",
    "\n",
    "agent_builder.add_conditional_edges(\n",
    "    \"llm_call\",\n",
    "    should_continue,\n",
    "    {\n",
    "        # Name returned by should_continue : Name of next node to visit\n",
    "        \"Action\": \"environment\",\n",
    "        END: END,\n",
    "    },\n",
    ")\n",
    "\n",
    "\n",
    "agent = agent_builder.compile()\n",
    "\n",
    "display(Image(agent.get_graph(xray=True).draw_mermaid_png()))"
   ]
  },
  {
   "cell_type": "code",
   "execution_count": 8,
   "metadata": {},
   "outputs": [
    {
     "name": "stdout",
     "output_type": "stream",
     "text": [
      "Assistant: {'messages': AIMessage(content='', additional_kwargs={'tool_calls': [{'id': 'call_58aKksb6kio2I0BN2PggU4Zq', 'function': {'arguments': '{\"question\":\"What is the number of female users in the treatment group?\"}', 'name': 'generate_and_execute_sql'}, 'type': 'function'}], 'refusal': None}, response_metadata={'token_usage': {'completion_tokens': 28, 'prompt_tokens': 89, 'total_tokens': 117, 'completion_tokens_details': {'accepted_prediction_tokens': 0, 'audio_tokens': 0, 'reasoning_tokens': 0, 'rejected_prediction_tokens': 0}, 'prompt_tokens_details': {'audio_tokens': 0, 'cached_tokens': 0}}, 'model_name': 'gpt-4o-mini-2024-07-18', 'system_fingerprint': 'fp_129a36352a', 'id': 'chatcmpl-BUgO7efWPPfztZm82ZjJnUvfYCb9x', 'service_tier': 'default', 'finish_reason': 'tool_calls', 'logprobs': None}, id='run--b1f62371-b8b8-466e-afa5-ed6411d5bdfc-0', tool_calls=[{'name': 'generate_and_execute_sql', 'args': {'question': 'What is the number of female users in the treatment group?'}, 'id': 'call_58aKksb6kio2I0BN2PggU4Zq', 'type': 'tool_call'}], usage_metadata={'input_tokens': 89, 'output_tokens': 28, 'total_tokens': 117, 'input_token_details': {'audio': 0, 'cache_read': 0}, 'output_token_details': {'audio': 0, 'reasoning': 0}})}\n",
      "Assistant: {'messages': [ToolMessage(content='[(59,)]', id='cabf8ad4-fe0d-4c4f-93c4-cfe336362a08', tool_call_id='call_58aKksb6kio2I0BN2PggU4Zq')]}\n"
     ]
    }
   ],
   "source": [
    "def stream_graph_updates(user_input: str):\n",
    "    for event in agent.stream({\"messages\": [{\"role\": \"user\", \"content\": user_input}]}):\n",
    "        for value in event.values():\n",
    "            print(\"Assistant:\", value)\n",
    "\n",
    "stream_graph_updates(\"what is number of female users in treatment group\")"
   ]
  },
  {
   "cell_type": "code",
   "execution_count": null,
   "metadata": {},
   "outputs": [],
   "source": []
  },
  {
   "cell_type": "code",
   "execution_count": null,
   "metadata": {},
   "outputs": [],
   "source": []
  },
  {
   "cell_type": "code",
   "execution_count": null,
   "metadata": {},
   "outputs": [],
   "source": []
  }
 ],
 "metadata": {
  "kernelspec": {
   "display_name": "tx",
   "language": "python",
   "name": "python3"
  },
  "language_info": {
   "codemirror_mode": {
    "name": "ipython",
    "version": 3
   },
   "file_extension": ".py",
   "mimetype": "text/x-python",
   "name": "python",
   "nbconvert_exporter": "python",
   "pygments_lexer": "ipython3",
   "version": "3.11.4"
  }
 },
 "nbformat": 4,
 "nbformat_minor": 2
}
