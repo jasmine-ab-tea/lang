{
 "cells": [
  {
   "cell_type": "code",
   "execution_count": null,
   "metadata": {},
   "outputs": [],
   "source": [
    "from galileo.datasets import create_dataset\n",
    "\n",
    "test_data = [\n",
    "    {\n",
    "        \"input\": \"Which continent is Spain in?\",\n",
    "        \"output\": \"Europe\",\n",
    "    },\n",
    "    {\n",
    "        \"input\": \"Which continent is Japan in?\",\n",
    "        \"output\": \"Asia\",\n",
    "    },\n",
    "]\n",
    "\n",
    "dataset = create_dataset(\n",
    "    name=\"countries\",\n",
    "    content=test_data,\n",
    ")"
   ]
  },
  {
   "cell_type": "code",
   "execution_count": 2,
   "metadata": {},
   "outputs": [
    {
     "name": "stderr",
     "output_type": "stream",
     "text": [
      "Error occurred during execution: __getattr__: 'DatasetDB' object has no attribute '_ipython_canary_method_should_not_exist_'\n",
      "Error occurred during execution: __getattr__: 'DatasetDB' object has no attribute '_ipython_display_'\n",
      "Error occurred during execution: __getattr__: 'DatasetDB' object has no attribute '_ipython_canary_method_should_not_exist_'\n",
      "Error occurred during execution: __getattr__: 'DatasetDB' object has no attribute '_repr_mimebundle_'\n",
      "Error occurred during execution: __getattr__: 'DatasetDB' object has no attribute '_ipython_canary_method_should_not_exist_'\n",
      "Error occurred during execution: __getattr__: 'DatasetDB' object has no attribute '_repr_html_'\n",
      "Error occurred during execution: __getattr__: 'DatasetDB' object has no attribute '_ipython_canary_method_should_not_exist_'\n",
      "Error occurred during execution: __getattr__: 'DatasetDB' object has no attribute '_repr_markdown_'\n",
      "Error occurred during execution: __getattr__: 'DatasetDB' object has no attribute '_ipython_canary_method_should_not_exist_'\n",
      "Error occurred during execution: __getattr__: 'DatasetDB' object has no attribute '_repr_svg_'\n",
      "Error occurred during execution: __getattr__: 'DatasetDB' object has no attribute '_ipython_canary_method_should_not_exist_'\n",
      "Error occurred during execution: __getattr__: 'DatasetDB' object has no attribute '_repr_png_'\n",
      "Error occurred during execution: __getattr__: 'DatasetDB' object has no attribute '_ipython_canary_method_should_not_exist_'\n",
      "Error occurred during execution: __getattr__: 'DatasetDB' object has no attribute '_repr_pdf_'\n",
      "Error occurred during execution: __getattr__: 'DatasetDB' object has no attribute '_ipython_canary_method_should_not_exist_'\n",
      "Error occurred during execution: __getattr__: 'DatasetDB' object has no attribute '_repr_jpeg_'\n",
      "Error occurred during execution: __getattr__: 'DatasetDB' object has no attribute '_ipython_canary_method_should_not_exist_'\n",
      "Error occurred during execution: __getattr__: 'DatasetDB' object has no attribute '_repr_latex_'\n",
      "Error occurred during execution: __getattr__: 'DatasetDB' object has no attribute '_ipython_canary_method_should_not_exist_'\n",
      "Error occurred during execution: __getattr__: 'DatasetDB' object has no attribute '_repr_json_'\n",
      "Error occurred during execution: __getattr__: 'DatasetDB' object has no attribute '_ipython_canary_method_should_not_exist_'\n",
      "Error occurred during execution: __getattr__: 'DatasetDB' object has no attribute '_repr_javascript_'\n"
     ]
    },
    {
     "data": {
      "text/plain": [
       "<galileo.datasets.Dataset at 0x1221e0c90>"
      ]
     },
     "execution_count": 2,
     "metadata": {},
     "output_type": "execute_result"
    }
   ],
   "source": [
    "from galileo.datasets import get_dataset\n",
    "\n",
    "dataset = get_dataset(\n",
    "    name=\"countries\",\n",
    ")\n",
    "\n",
    "dataset.add_rows([\n",
    "    {\n",
    "        \"input\": \"Which continent is Morocco in?\",\n",
    "        \"output\": \"Africa\",\n",
    "    },\n",
    "    {\n",
    "        \"input\": \"Which continent is Australia in?\",\n",
    "        \"output\": \"Oceania\",\n",
    "    },\n",
    "])"
   ]
  },
  {
   "cell_type": "markdown",
   "metadata": {},
   "source": []
  }
 ],
 "metadata": {
  "kernelspec": {
   "display_name": "tx",
   "language": "python",
   "name": "python3"
  },
  "language_info": {
   "codemirror_mode": {
    "name": "ipython",
    "version": 3
   },
   "file_extension": ".py",
   "mimetype": "text/x-python",
   "name": "python",
   "nbconvert_exporter": "python",
   "pygments_lexer": "ipython3",
   "version": "3.11.4"
  }
 },
 "nbformat": 4,
 "nbformat_minor": 2
}
